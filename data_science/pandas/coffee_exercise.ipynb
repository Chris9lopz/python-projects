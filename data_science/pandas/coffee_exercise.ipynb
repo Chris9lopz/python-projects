{
 "cells": [
  {
   "cell_type": "code",
   "execution_count": 4,
   "id": "71bfa6a7-ac42-41d1-8361-43bf68b667c5",
   "metadata": {},
   "outputs": [
    {
     "data": {
      "text/plain": [
       "Coffee\n",
       "Americano                       202\n",
       "Black Iced Tea                  184\n",
       "Cappuccino                      250\n",
       "Caramel Macchiato               212\n",
       "Chai                             93\n",
       "Cold Brew                        45\n",
       "Cortado                          55\n",
       "Drip                            193\n",
       "Elderberry Hibiscus Iced Tea    125\n",
       "Espresso                         94\n",
       "Espresso over Ice                 0\n",
       "Fall Oat Boy                    145\n",
       "Flat White                       71\n",
       "Flower Power                     92\n",
       "Golden Mylk                     128\n",
       "Green Iced Tea                   88\n",
       "Hall & Oats                     250\n",
       "Honey Badger                    216\n",
       "Hot Chocolate                   235\n",
       "Hot Tea                          93\n",
       "Iced Americano                    2\n",
       "Iced Blind Date                 244\n",
       "Iced Caramel Macchiato          166\n",
       "Iced Chai                       163\n",
       "Iced Cortado                    172\n",
       "Iced Latte                      101\n",
       "Iced Matcha Latte               221\n",
       "Iced Mocha                        1\n",
       "Latte                           102\n",
       "Macchiato                       175\n",
       "Maple Latte                      30\n",
       "Matcha Latte                     67\n",
       "Milk Steamer                    245\n",
       "Mocha                           134\n",
       "Nitro Cold Brew                 198\n",
       "Nu Brew                         246\n",
       "Pumpkin Spice Latte              28\n",
       "Salted Caramel Cold Brew        141\n",
       "Turmeric Latte                   64\n",
       "WPZ (Limited Single Origin)     168\n",
       "Name: Calories, dtype: int64"
      ]
     },
     "execution_count": 4,
     "metadata": {},
     "output_type": "execute_result"
    }
   ],
   "source": [
    " # Using coffee.csv\n",
    "\n",
    "# This challenge includes a coffee.csv with 2 columns: \n",
    "# Coffee and Calories. Import the CSV. Assign the Coffee\n",
    "# column to be the index and the Calories column to be the\n",
    "# Series' values. Assign the Series to a 'coffee' variable.\n",
    "\n",
    "import pandas as pd\n",
    "\n",
    "coffee = pd.read_csv(\"coffee.csv\", index_col=\"Coffee\").squeeze(\"columns\")\n",
    "coffee"
   ]
  },
  {
   "cell_type": "code",
   "execution_count": 6,
   "id": "09089ebb-cf8c-4be0-b566-74379592bbba",
   "metadata": {},
   "outputs": [
    {
     "data": {
      "text/plain": [
       "True"
      ]
     },
     "execution_count": 6,
     "metadata": {},
     "output_type": "execute_result"
    }
   ],
   "source": [
    "# Check whether the coffee 'Flat White' is present in the data.\n",
    "# Assign the result to a `flat_white` variable\n",
    "flat_white = 'Flat White' in coffee\n",
    "flat_white"
   ]
  },
  {
   "cell_type": "code",
   "execution_count": 7,
   "id": "cf4195e2-53d4-428b-8f19-e91dd546d204",
   "metadata": {},
   "outputs": [
    {
     "data": {
      "text/plain": [
       "True"
      ]
     },
     "execution_count": 7,
     "metadata": {},
     "output_type": "execute_result"
    }
   ],
   "source": [
    "# Check whether the coffee 'Cortado' is present in the data.\n",
    "# Assign the result to a `cortado` variable\n",
    "cortado = 'Cortado' in coffee"
   ]
  },
  {
   "cell_type": "code",
   "execution_count": 9,
   "id": "46d30de1-cd3b-4285-94f4-b6e46fc52d32",
   "metadata": {},
   "outputs": [
    {
     "data": {
      "text/plain": [
       "False"
      ]
     },
     "execution_count": 9,
     "metadata": {},
     "output_type": "execute_result"
    }
   ],
   "source": [
    "# Check whether the coffee 'Blackberry Mocha' is present in the data.\n",
    "# Assign the result to a `blackberry_mocha` variable\n",
    "blackberry_mocha = 'Blackberry Mocha' in coffee\n",
    "blackberry_mocha"
   ]
  },
  {
   "cell_type": "code",
   "execution_count": 13,
   "id": "1e5669a0-aa1e-468b-a667-0a175d8002ab",
   "metadata": {},
   "outputs": [
    {
     "data": {
      "text/plain": [
       "True"
      ]
     },
     "execution_count": 13,
     "metadata": {},
     "output_type": "execute_result"
    }
   ],
   "source": [
    "# Check whether the value 221 is present in the data.\n",
    "# Assign the result to a 'high_calorie' variable.\n",
    "high_calorie = 221 in coffee.values\n",
    "high_calorie"
   ]
  },
  {
   "cell_type": "code",
   "execution_count": 14,
   "id": "672592f8-fff3-4cc1-b7e2-988892fa564c",
   "metadata": {},
   "outputs": [
    {
     "data": {
      "text/plain": [
       "False"
      ]
     },
     "execution_count": 14,
     "metadata": {},
     "output_type": "execute_result"
    }
   ],
   "source": [
    "# Check whether the value 400 is present in the data.\n",
    "# Assign the result to a 'super_high_calorie' variable.\n",
    "super_high_calorie = 400 in coffee.values\n",
    "super_high_calorie"
   ]
  },
  {
   "cell_type": "code",
   "execution_count": null,
   "id": "5ad3750d-a4da-46fe-8fa5-9458cdc45f86",
   "metadata": {},
   "outputs": [],
   "source": []
  }
 ],
 "metadata": {
  "kernelspec": {
   "display_name": "Python 3 (ipykernel)",
   "language": "python",
   "name": "python3"
  },
  "language_info": {
   "codemirror_mode": {
    "name": "ipython",
    "version": 3
   },
   "file_extension": ".py",
   "mimetype": "text/x-python",
   "name": "python",
   "nbconvert_exporter": "python",
   "pygments_lexer": "ipython3",
   "version": "3.13.5"
  }
 },
 "nbformat": 4,
 "nbformat_minor": 5
}
