{
 "cells": [
  {
   "cell_type": "code",
   "execution_count": 1,
   "id": "978d7556-5cc2-4a9f-b4d3-cede94d4acf8",
   "metadata": {},
   "outputs": [],
   "source": [
    "import pandas as pd\n",
    "\n",
    "# I have a dictionary that maps guitar types to their colors\n",
    "guitars_dict = {\n",
    "    \"Fender Telecaster\": \"Baby Blue\",\n",
    "    \"Gibson Les Paul\": \"Sunburst\",\n",
    "    \"ESP Eclipse\": \"Dark Green\"\n",
    "}\n"
   ]
  },
  {
   "cell_type": "code",
   "execution_count": 3,
   "id": "8d2126f0-dfc2-4b6a-9cef-537fa1bf0914",
   "metadata": {},
   "outputs": [
    {
     "data": {
      "text/plain": [
       "Fender Telecaster     Baby Blue\n",
       "Gibson Les Paul        Sunburst\n",
       "ESP Eclipse          Dark Green\n",
       "dtype: object"
      ]
     },
     "execution_count": 3,
     "metadata": {},
     "output_type": "execute_result"
    }
   ],
   "source": [
    "# Create a new Series object, passing in the guitars_dict dictionary as the data source.\n",
    "# Assign the resulting Series to a \"guitars\" variable.\n",
    "\n",
    "guitars = pd.Series(guitars_dict)\n",
    "guitars"
   ]
  },
  {
   "cell_type": "code",
   "execution_count": 4,
   "id": "dc175f90-bd09-4b11-be4d-cf77643bcd63",
   "metadata": {},
   "outputs": [
    {
     "data": {
      "text/plain": [
       "'Baby Blue'"
      ]
     },
     "execution_count": 4,
     "metadata": {},
     "output_type": "execute_result"
    }
   ],
   "source": [
    "# Access the value for the index position of 0 within the \"guitars\" Series.\n",
    "# Assign the value to a \"fender_color\" variable.\n",
    "\n",
    "fender_color = guitars.iloc[0]\n",
    "fender_color"
   ]
  },
  {
   "cell_type": "code",
   "execution_count": 5,
   "id": "830e00af-b93c-46ca-bd22-77c36f9b001f",
   "metadata": {},
   "outputs": [
    {
     "data": {
      "text/plain": [
       "'Sunburst'"
      ]
     },
     "execution_count": 5,
     "metadata": {},
     "output_type": "execute_result"
    }
   ],
   "source": [
    "# Access the value for the index label of \"Gibson Les Paul\" in the \"guitars\" Series.\n",
    "# Assign the value to a \"gibson_color\" variable.\n",
    "\n",
    "gibson_color = guitars.loc[\"Gibson Les Paul\"]\n",
    "gibson_color"
   ]
  },
  {
   "cell_type": "code",
   "execution_count": 7,
   "id": "9ea4e325-ec18-4c02-88b2-d70cc86ba5b2",
   "metadata": {},
   "outputs": [
    {
     "data": {
      "text/plain": [
       "'Dark Green'"
      ]
     },
     "execution_count": 7,
     "metadata": {},
     "output_type": "execute_result"
    }
   ],
   "source": [
    "# Access the value for the index label of \"ESP Eclipse\" in the \"guitars\" Series.\n",
    "# Assign the value to a \"esp_color\" variable.\n",
    "\n",
    "esp_color = guitars.loc[\"ESP Eclipse\"]\n",
    "esp_color"
   ]
  }
 ],
 "metadata": {
  "kernelspec": {
   "display_name": "Python 3 (ipykernel)",
   "language": "python",
   "name": "python3"
  },
  "language_info": {
   "codemirror_mode": {
    "name": "ipython",
    "version": 3
   },
   "file_extension": ".py",
   "mimetype": "text/x-python",
   "name": "python",
   "nbconvert_exporter": "python",
   "pygments_lexer": "ipython3",
   "version": "3.13.5"
  }
 },
 "nbformat": 4,
 "nbformat_minor": 5
}
