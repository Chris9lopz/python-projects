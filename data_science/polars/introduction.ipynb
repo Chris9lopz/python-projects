{
 "cells": [
  {
   "cell_type": "markdown",
   "id": "8538f80c-2044-40f7-8ca9-9b4eae162f90",
   "metadata": {},
   "source": [
    "## Import module Polars"
   ]
  },
  {
   "cell_type": "code",
   "execution_count": 6,
   "id": "c640ffca-bcdd-4235-8230-8e3670a2e100",
   "metadata": {},
   "outputs": [],
   "source": [
    "import polars as pl"
   ]
  },
  {
   "cell_type": "markdown",
   "id": "0c476c9a-8175-41f8-947a-f30ad6bc629f",
   "metadata": {},
   "source": [
    "## Reading a CSV File"
   ]
  },
  {
   "cell_type": "code",
   "execution_count": 3,
   "id": "b5a3f93c-7d07-4108-8b69-37b79dd7e4f5",
   "metadata": {},
   "outputs": [],
   "source": [
    "df = pl.read_csv('adidas_usa.csv')"
   ]
  },
  {
   "cell_type": "markdown",
   "id": "f74d7c78-232a-46c0-b87b-e75a739f959e",
   "metadata": {},
   "source": [
    "## First 5 rows"
   ]
  },
  {
   "cell_type": "code",
   "execution_count": 8,
   "id": "41c612aa-19fd-445a-8384-f0600d912b92",
   "metadata": {
    "scrolled": true
   },
   "outputs": [
    {
     "data": {
      "text/html": [
       "<div><style>\n",
       ".dataframe > thead > tr,\n",
       ".dataframe > tbody > tr {\n",
       "  text-align: right;\n",
       "  white-space: pre-wrap;\n",
       "}\n",
       "</style>\n",
       "<small>shape: (5, 20)</small><table border=\"1\" class=\"dataframe\"><thead><tr><th>url</th><th>name</th><th>sku</th><th>selling_price</th><th>original_price</th><th>currency</th><th>availability</th><th>color</th><th>category</th><th>source</th><th>source_website</th><th>breadcrumbs</th><th>description</th><th>brand</th><th>images</th><th>country</th><th>language</th><th>average_rating</th><th>reviews_count</th><th>crawled_at</th></tr><tr><td>str</td><td>str</td><td>str</td><td>i64</td><td>str</td><td>str</td><td>str</td><td>str</td><td>str</td><td>str</td><td>str</td><td>str</td><td>str</td><td>str</td><td>str</td><td>str</td><td>str</td><td>f64</td><td>i64</td><td>str</td></tr></thead><tbody><tr><td>&quot;https://www.adidas.com/us/beac…</td><td>&quot;Beach Shorts&quot;</td><td>&quot;FJ5089&quot;</td><td>40</td><td>null</td><td>&quot;USD&quot;</td><td>&quot;InStock&quot;</td><td>&quot;Black&quot;</td><td>&quot;Clothing&quot;</td><td>&quot;adidas United States&quot;</td><td>&quot;https://www.adidas.com&quot;</td><td>&quot;Women/Clothing&quot;</td><td>&quot;Splashing in the surf. Making …</td><td>&quot;adidas&quot;</td><td>&quot;https://assets.adidas.com/imag…</td><td>&quot;USA&quot;</td><td>&quot;en&quot;</td><td>4.5</td><td>35</td><td>&quot;2021-10-23 17:50:17&quot;</td></tr><tr><td>&quot;https://www.adidas.com/us/five…</td><td>&quot;Five Ten Kestrel Lace Mountain…</td><td>&quot;BC0770&quot;</td><td>150</td><td>null</td><td>&quot;USD&quot;</td><td>&quot;InStock&quot;</td><td>&quot;Grey&quot;</td><td>&quot;Shoes&quot;</td><td>&quot;adidas United States&quot;</td><td>&quot;https://www.adidas.com&quot;</td><td>&quot;Women/Shoes&quot;</td><td>&quot;Lace up and get after it. The …</td><td>&quot;adidas&quot;</td><td>&quot;https://assets.adidas.com/imag…</td><td>&quot;USA&quot;</td><td>&quot;en&quot;</td><td>4.8</td><td>4</td><td>&quot;2021-10-23 17:50:17&quot;</td></tr><tr><td>&quot;https://www.adidas.com/us/mexi…</td><td>&quot;Mexico Away Jersey&quot;</td><td>&quot;GC7946&quot;</td><td>70</td><td>null</td><td>&quot;USD&quot;</td><td>&quot;InStock&quot;</td><td>&quot;White&quot;</td><td>&quot;Clothing&quot;</td><td>&quot;adidas United States&quot;</td><td>&quot;https://www.adidas.com&quot;</td><td>&quot;Kids/Clothing&quot;</td><td>&quot;Clean and crisp, this adidas M…</td><td>&quot;adidas&quot;</td><td>&quot;https://assets.adidas.com/imag…</td><td>&quot;USA&quot;</td><td>&quot;en&quot;</td><td>4.9</td><td>42</td><td>&quot;2021-10-23 17:50:18&quot;</td></tr><tr><td>&quot;https://www.adidas.com/us/five…</td><td>&quot;Five Ten Hiangle Pro Competiti…</td><td>&quot;FV4744&quot;</td><td>160</td><td>null</td><td>&quot;USD&quot;</td><td>&quot;InStock&quot;</td><td>&quot;Black&quot;</td><td>&quot;Shoes&quot;</td><td>&quot;adidas United States&quot;</td><td>&quot;https://www.adidas.com&quot;</td><td>&quot;Five Ten/Shoes&quot;</td><td>&quot;The Hiangle Pro takes on the c…</td><td>&quot;adidas&quot;</td><td>&quot;https://assets.adidas.com/imag…</td><td>&quot;USA&quot;</td><td>&quot;en&quot;</td><td>3.7</td><td>7</td><td>&quot;2021-10-23 17:50:18&quot;</td></tr><tr><td>&quot;https://www.adidas.com/us/mesh…</td><td>&quot;Mesh Broken-Stripe Polo Shirt&quot;</td><td>&quot;GM0239&quot;</td><td>65</td><td>null</td><td>&quot;USD&quot;</td><td>&quot;InStock&quot;</td><td>&quot;Blue&quot;</td><td>&quot;Clothing&quot;</td><td>&quot;adidas United States&quot;</td><td>&quot;https://www.adidas.com&quot;</td><td>&quot;Men/Clothing&quot;</td><td>&quot;Step up to the tee relaxed. Th…</td><td>&quot;adidas&quot;</td><td>&quot;https://assets.adidas.com/imag…</td><td>&quot;USA&quot;</td><td>&quot;en&quot;</td><td>4.7</td><td>11</td><td>&quot;2021-10-23 17:50:18&quot;</td></tr></tbody></table></div>"
      ],
      "text/plain": [
       "shape: (5, 20)\n",
       "┌──────────────────────┬─────────────────────┬────────┬───────────────┬───┬──────────┬────────────────┬───────────────┬────────────┐\n",
       "│ url                  ┆ name                ┆ sku    ┆ selling_price ┆ … ┆ language ┆ average_rating ┆ reviews_count ┆ crawled_at │\n",
       "│ ---                  ┆ ---                 ┆ ---    ┆ ---           ┆   ┆ ---      ┆ ---            ┆ ---           ┆ ---        │\n",
       "│ str                  ┆ str                 ┆ str    ┆ i64           ┆   ┆ str      ┆ f64            ┆ i64           ┆ str        │\n",
       "╞══════════════════════╪═════════════════════╪════════╪═══════════════╪═══╪══════════╪════════════════╪═══════════════╪════════════╡\n",
       "│ https://www.adidas.c ┆ Beach Shorts        ┆ FJ5089 ┆ 40            ┆ … ┆ en       ┆ 4.5            ┆ 35            ┆ 2021-10-23 │\n",
       "│ om/us/beac…          ┆                     ┆        ┆               ┆   ┆          ┆                ┆               ┆ 17:50:17   │\n",
       "│ https://www.adidas.c ┆ Five Ten Kestrel    ┆ BC0770 ┆ 150           ┆ … ┆ en       ┆ 4.8            ┆ 4             ┆ 2021-10-23 │\n",
       "│ om/us/five…          ┆ Lace Mountain…      ┆        ┆               ┆   ┆          ┆                ┆               ┆ 17:50:17   │\n",
       "│ https://www.adidas.c ┆ Mexico Away Jersey  ┆ GC7946 ┆ 70            ┆ … ┆ en       ┆ 4.9            ┆ 42            ┆ 2021-10-23 │\n",
       "│ om/us/mexi…          ┆                     ┆        ┆               ┆   ┆          ┆                ┆               ┆ 17:50:18   │\n",
       "│ https://www.adidas.c ┆ Five Ten Hiangle    ┆ FV4744 ┆ 160           ┆ … ┆ en       ┆ 3.7            ┆ 7             ┆ 2021-10-23 │\n",
       "│ om/us/five…          ┆ Pro Competiti…      ┆        ┆               ┆   ┆          ┆                ┆               ┆ 17:50:18   │\n",
       "│ https://www.adidas.c ┆ Mesh Broken-Stripe  ┆ GM0239 ┆ 65            ┆ … ┆ en       ┆ 4.7            ┆ 11            ┆ 2021-10-23 │\n",
       "│ om/us/mesh…          ┆ Polo Shirt          ┆        ┆               ┆   ┆          ┆                ┆               ┆ 17:50:18   │\n",
       "└──────────────────────┴─────────────────────┴────────┴───────────────┴───┴──────────┴────────────────┴───────────────┴────────────┘"
      ]
     },
     "execution_count": 8,
     "metadata": {},
     "output_type": "execute_result"
    }
   ],
   "source": [
    "df.head()"
   ]
  },
  {
   "cell_type": "markdown",
   "id": "245a30e3-f167-4462-b9ec-f938016a7733",
   "metadata": {},
   "source": [
    "## Last 5 Rows"
   ]
  },
  {
   "cell_type": "code",
   "execution_count": 7,
   "id": "058fd03a-f0c4-4003-b708-84aed6998765",
   "metadata": {},
   "outputs": [
    {
     "data": {
      "text/html": [
       "<div><style>\n",
       ".dataframe > thead > tr,\n",
       ".dataframe > tbody > tr {\n",
       "  text-align: right;\n",
       "  white-space: pre-wrap;\n",
       "}\n",
       "</style>\n",
       "<small>shape: (5, 20)</small><table border=\"1\" class=\"dataframe\"><thead><tr><th>url</th><th>name</th><th>sku</th><th>selling_price</th><th>original_price</th><th>currency</th><th>availability</th><th>color</th><th>category</th><th>source</th><th>source_website</th><th>breadcrumbs</th><th>description</th><th>brand</th><th>images</th><th>country</th><th>language</th><th>average_rating</th><th>reviews_count</th><th>crawled_at</th></tr><tr><td>str</td><td>str</td><td>str</td><td>i64</td><td>str</td><td>str</td><td>str</td><td>str</td><td>str</td><td>str</td><td>str</td><td>str</td><td>str</td><td>str</td><td>str</td><td>str</td><td>str</td><td>f64</td><td>i64</td><td>str</td></tr></thead><tbody><tr><td>&quot;https://www.adidas.com/us/supe…</td><td>&quot;Supernova+ Shoes&quot;</td><td>&quot;FX2858&quot;</td><td>72</td><td>&quot;$120&quot;</td><td>&quot;USD&quot;</td><td>&quot;InStock&quot;</td><td>&quot;White&quot;</td><td>&quot;Shoes&quot;</td><td>&quot;adidas United States&quot;</td><td>&quot;https://www.adidas.com&quot;</td><td>&quot;Women/Shoes&quot;</td><td>&quot;Take off. Touch down. Repeat. …</td><td>&quot;adidas&quot;</td><td>&quot;https://assets.adidas.com/imag…</td><td>&quot;USA&quot;</td><td>&quot;en&quot;</td><td>4.3</td><td>151</td><td>&quot;2021-10-23 17:52:32&quot;</td></tr><tr><td>&quot;https://www.adidas.com/us/choi…</td><td>&quot;Choigo Shoes&quot;</td><td>&quot;H00667&quot;</td><td>70</td><td>&quot;$100&quot;</td><td>&quot;USD&quot;</td><td>&quot;InStock&quot;</td><td>&quot;White&quot;</td><td>&quot;Shoes&quot;</td><td>&quot;adidas United States&quot;</td><td>&quot;https://www.adidas.com&quot;</td><td>&quot;Women/Shoes&quot;</td><td>&quot;If you want drama, the bold fe…</td><td>&quot;adidas&quot;</td><td>&quot;https://assets.adidas.com/imag…</td><td>&quot;USA&quot;</td><td>&quot;en&quot;</td><td>4.7</td><td>135</td><td>&quot;2021-10-23 17:52:32&quot;</td></tr><tr><td>&quot;https://www.adidas.com/us/dail…</td><td>&quot;Daily 3.0 Shoes&quot;</td><td>&quot;GZ7705&quot;</td><td>35</td><td>&quot;$50&quot;</td><td>&quot;USD&quot;</td><td>&quot;InStock&quot;</td><td>&quot;Black&quot;</td><td>&quot;Shoes&quot;</td><td>&quot;adidas United States&quot;</td><td>&quot;https://www.adidas.com&quot;</td><td>&quot;Kids/Shoes&quot;</td><td>&quot;The style is in the details of…</td><td>&quot;adidas&quot;</td><td>&quot;https://assets.adidas.com/imag…</td><td>&quot;USA&quot;</td><td>&quot;en&quot;</td><td>4.7</td><td>190</td><td>&quot;2021-10-23 17:52:32&quot;</td></tr><tr><td>&quot;https://www.adidas.com/us/dail…</td><td>&quot;Daily 3.0 Shoes&quot;</td><td>&quot;GZ7706&quot;</td><td>40</td><td>&quot;$50&quot;</td><td>&quot;USD&quot;</td><td>&quot;InStock&quot;</td><td>&quot;Pink&quot;</td><td>&quot;Shoes&quot;</td><td>&quot;adidas United States&quot;</td><td>&quot;https://www.adidas.com&quot;</td><td>&quot;Kids/Shoes&quot;</td><td>&quot;The style is in the details of…</td><td>&quot;adidas&quot;</td><td>&quot;https://assets.adidas.com/imag…</td><td>&quot;USA&quot;</td><td>&quot;en&quot;</td><td>4.7</td><td>190</td><td>&quot;2021-10-23 17:52:32&quot;</td></tr><tr><td>&quot;https://www.adidas.com/us/choi…</td><td>&quot;Choigo Shoes&quot;</td><td>&quot;FY6503&quot;</td><td>70</td><td>&quot;$100&quot;</td><td>&quot;USD&quot;</td><td>&quot;InStock&quot;</td><td>&quot;Black&quot;</td><td>&quot;Shoes&quot;</td><td>&quot;adidas United States&quot;</td><td>&quot;https://www.adidas.com&quot;</td><td>&quot;Women/Shoes&quot;</td><td>&quot;Take your style to bold new he…</td><td>&quot;adidas&quot;</td><td>&quot;https://assets.adidas.com/imag…</td><td>&quot;USA&quot;</td><td>&quot;en&quot;</td><td>4.7</td><td>135</td><td>&quot;2021-10-23 17:52:32&quot;</td></tr></tbody></table></div>"
      ],
      "text/plain": [
       "shape: (5, 20)\n",
       "┌─────────────────────────┬──────────────────┬────────┬───────────────┬───┬──────────┬────────────────┬───────────────┬────────────┐\n",
       "│ url                     ┆ name             ┆ sku    ┆ selling_price ┆ … ┆ language ┆ average_rating ┆ reviews_count ┆ crawled_at │\n",
       "│ ---                     ┆ ---              ┆ ---    ┆ ---           ┆   ┆ ---      ┆ ---            ┆ ---           ┆ ---        │\n",
       "│ str                     ┆ str              ┆ str    ┆ i64           ┆   ┆ str      ┆ f64            ┆ i64           ┆ str        │\n",
       "╞═════════════════════════╪══════════════════╪════════╪═══════════════╪═══╪══════════╪════════════════╪═══════════════╪════════════╡\n",
       "│ https://www.adidas.com/ ┆ Supernova+ Shoes ┆ FX2858 ┆ 72            ┆ … ┆ en       ┆ 4.3            ┆ 151           ┆ 2021-10-23 │\n",
       "│ us/supe…                ┆                  ┆        ┆               ┆   ┆          ┆                ┆               ┆ 17:52:32   │\n",
       "│ https://www.adidas.com/ ┆ Choigo Shoes     ┆ H00667 ┆ 70            ┆ … ┆ en       ┆ 4.7            ┆ 135           ┆ 2021-10-23 │\n",
       "│ us/choi…                ┆                  ┆        ┆               ┆   ┆          ┆                ┆               ┆ 17:52:32   │\n",
       "│ https://www.adidas.com/ ┆ Daily 3.0 Shoes  ┆ GZ7705 ┆ 35            ┆ … ┆ en       ┆ 4.7            ┆ 190           ┆ 2021-10-23 │\n",
       "│ us/dail…                ┆                  ┆        ┆               ┆   ┆          ┆                ┆               ┆ 17:52:32   │\n",
       "│ https://www.adidas.com/ ┆ Daily 3.0 Shoes  ┆ GZ7706 ┆ 40            ┆ … ┆ en       ┆ 4.7            ┆ 190           ┆ 2021-10-23 │\n",
       "│ us/dail…                ┆                  ┆        ┆               ┆   ┆          ┆                ┆               ┆ 17:52:32   │\n",
       "│ https://www.adidas.com/ ┆ Choigo Shoes     ┆ FY6503 ┆ 70            ┆ … ┆ en       ┆ 4.7            ┆ 135           ┆ 2021-10-23 │\n",
       "│ us/choi…                ┆                  ┆        ┆               ┆   ┆          ┆                ┆               ┆ 17:52:32   │\n",
       "└─────────────────────────┴──────────────────┴────────┴───────────────┴───┴──────────┴────────────────┴───────────────┴────────────┘"
      ]
     },
     "execution_count": 7,
     "metadata": {},
     "output_type": "execute_result"
    }
   ],
   "source": [
    "df.tail()"
   ]
  },
  {
   "cell_type": "markdown",
   "id": "ff61911a-bf37-4e95-9cd5-5f31fc6ec8cf",
   "metadata": {},
   "source": [
    "## Metadata Shape"
   ]
  },
  {
   "cell_type": "code",
   "execution_count": 9,
   "id": "d9b9252c-55c3-423e-8776-651196c20ebd",
   "metadata": {},
   "outputs": [
    {
     "data": {
      "text/plain": [
       "(845, 20)"
      ]
     },
     "execution_count": 9,
     "metadata": {},
     "output_type": "execute_result"
    }
   ],
   "source": [
    "df.shape"
   ]
  },
  {
   "cell_type": "markdown",
   "id": "50c343d0-b231-4240-b629-29e2210cf178",
   "metadata": {},
   "source": [
    "## Columns"
   ]
  },
  {
   "cell_type": "code",
   "execution_count": 10,
   "id": "dd0aaa59-5483-4a27-b58e-e0cca769437e",
   "metadata": {},
   "outputs": [
    {
     "data": {
      "text/plain": [
       "['url',\n",
       " 'name',\n",
       " 'sku',\n",
       " 'selling_price',\n",
       " 'original_price',\n",
       " 'currency',\n",
       " 'availability',\n",
       " 'color',\n",
       " 'category',\n",
       " 'source',\n",
       " 'source_website',\n",
       " 'breadcrumbs',\n",
       " 'description',\n",
       " 'brand',\n",
       " 'images',\n",
       " 'country',\n",
       " 'language',\n",
       " 'average_rating',\n",
       " 'reviews_count',\n",
       " 'crawled_at']"
      ]
     },
     "execution_count": 10,
     "metadata": {},
     "output_type": "execute_result"
    }
   ],
   "source": [
    "df.columns"
   ]
  },
  {
   "cell_type": "markdown",
   "id": "f8b75329-4bd0-46e7-9e04-9f9850b57eae",
   "metadata": {},
   "source": [
    "## Columns Datatype"
   ]
  },
  {
   "cell_type": "code",
   "execution_count": 11,
   "id": "a0f0fc88-8fc6-4022-8930-25e86389222f",
   "metadata": {},
   "outputs": [
    {
     "data": {
      "text/plain": [
       "Schema([('url', String),\n",
       "        ('name', String),\n",
       "        ('sku', String),\n",
       "        ('selling_price', Int64),\n",
       "        ('original_price', String),\n",
       "        ('currency', String),\n",
       "        ('availability', String),\n",
       "        ('color', String),\n",
       "        ('category', String),\n",
       "        ('source', String),\n",
       "        ('source_website', String),\n",
       "        ('breadcrumbs', String),\n",
       "        ('description', String),\n",
       "        ('brand', String),\n",
       "        ('images', String),\n",
       "        ('country', String),\n",
       "        ('language', String),\n",
       "        ('average_rating', Float64),\n",
       "        ('reviews_count', Int64),\n",
       "        ('crawled_at', String)])"
      ]
     },
     "execution_count": 11,
     "metadata": {},
     "output_type": "execute_result"
    }
   ],
   "source": [
    "df.schema"
   ]
  },
  {
   "cell_type": "markdown",
   "id": "49e4e51d-0406-4a1c-9bce-5bb33f60fa3f",
   "metadata": {},
   "source": [
    "## Data detail"
   ]
  },
  {
   "cell_type": "code",
   "execution_count": 12,
   "id": "7f97263b-7ec3-458e-b4ce-7299f3674ac8",
   "metadata": {},
   "outputs": [
    {
     "name": "stdout",
     "output_type": "stream",
     "text": [
      "Rows: 845\n",
      "Columns: 20\n",
      "$ url            <str> 'https://www.adidas.com/us/beach-shorts/FJ5089.html', 'https://www.adidas.com/us/five-ten-kestrel-lace-mountain-bike-shoes/BC0770.html', 'https://www.adidas.com/us/mexico-away-jersey/GC7946.html', 'https://www.adidas.com/us/five-ten-hiangle-pro-competition-climbing-shoes/FV4744.html', 'https://www.adidas.com/us/mesh-broken-stripe-polo-shirt/GM0239.html', 'https://www.adidas.com/us/eqt-spikeless-golf-shoes/FX7449.html', 'https://www.adidas.com/us/adicross-hybrid-shorts/GM5505.html', 'https://www.adidas.com/us/tiro-21-windbreaker/GP4975.html', 'https://www.adidas.com/us/classic-3-stripes-swimsuit/FS3923.html', 'https://www.adidas.com/us/tiro-21-windbreaker/GP4967.html'\n",
      "$ name           <str> 'Beach Shorts', 'Five Ten Kestrel Lace Mountain Bike Shoes', 'Mexico Away Jersey', 'Five Ten Hiangle Pro Competition Climbing Shoes', 'Mesh Broken-Stripe Polo Shirt', 'EQT Spikeless Golf Shoes', 'Adicross Hybrid Shorts', 'Tiro 21 Windbreaker', 'Classic 3-Stripes Swimsuit', 'Tiro 21 Windbreaker'\n",
      "$ sku            <str> 'FJ5089', 'BC0770', 'GC7946', 'FV4744', 'GM0239', 'FX7449', 'GM5505', 'GP4975', 'FS3923', 'GP4967'\n",
      "$ selling_price  <i64> 40, 150, 70, 160, 65, 110, 80, 60, 40, 65\n",
      "$ original_price <str> None, None, None, None, None, None, None, None, None, None\n",
      "$ currency       <str> 'USD', 'USD', 'USD', 'USD', 'USD', 'USD', 'USD', 'USD', 'USD', 'USD'\n",
      "$ availability   <str> 'InStock', 'InStock', 'InStock', 'InStock', 'InStock', 'InStock', 'InStock', 'InStock', 'InStock', 'InStock'\n",
      "$ color          <str> 'Black', 'Grey', 'White', 'Black', 'Blue', 'Grey', 'Black', 'Black', 'Black', 'Black'\n",
      "$ category       <str> 'Clothing', 'Shoes', 'Clothing', 'Shoes', 'Clothing', 'Shoes', 'Clothing', 'Clothing', 'Clothing', 'Clothing'\n",
      "$ source         <str> 'adidas United States', 'adidas United States', 'adidas United States', 'adidas United States', 'adidas United States', 'adidas United States', 'adidas United States', 'adidas United States', 'adidas United States', 'adidas United States'\n",
      "$ source_website <str> 'https://www.adidas.com', 'https://www.adidas.com', 'https://www.adidas.com', 'https://www.adidas.com', 'https://www.adidas.com', 'https://www.adidas.com', 'https://www.adidas.com', 'https://www.adidas.com', 'https://www.adidas.com', 'https://www.adidas.com'\n",
      "$ breadcrumbs    <str> 'Women/Clothing', 'Women/Shoes', 'Kids/Clothing', 'Five Ten/Shoes', 'Men/Clothing', 'Women/Shoes', 'Men/Clothing', 'Kids/Clothing', 'Women/Clothing', 'Men/Clothing'\n",
      "$ description    <str> 'Splashing in the surf. Making memories with your friends. Beach days are the best days. These shorts are made of stretchy woven fabric. An elastic waistband that features the adidas logo brings a sporty look to your day at the beach.', \"Lace up and get after it. The Five Ten Kestrel Lace Mountain Bike Shoes offer efficient pedal power with low-profile style. The wide platform is compatible with all clipless pedals and offers high-friction grip on and off the bike. You'll find the find comfort and versatility for extended trail rides and afterwork hot laps alike.\", \"Clean and crisp, this adidas Mexico Away Jersey for juniors displays a design that began life in an artist's studio. Soft, quick-drying fabric keeps you comfortable. Standing out on the chest, a team badge lets fans show pride in their soccer team.\", 'The Hiangle Pro takes on the classic shape of the original Hiangle with the addition of a seamless outsole wrapping around the toes, allowing for maximum rubber contact when tackling the most challenging boulder problems.', \"Step up to the tee relaxed. This adidas golf polo shirt lets you focus on accurate drives and putts. Four-way stretch matches the body's natural movements. Breathable fabric keeps you comfortable spring, summer and fall. Recycled materials are one step towards reducing plastic waste.\", \"Put comfort first. These adidas spikeless golf shoes combine a Bounce midsole and a Boost heel for a lightweight, responsive feel that helps you convert bogie's to birdies. They repel water to keep your feet dry through wet fairways. The versatile rubber outsole ensures easy transitions from your final putt to cold drinks at the clubhouse. Recycled materials are one step towards reducing plastic waste.\", 'On the golf course, comfort is an essential component of keeping your concentration locked in on each shot. Stay focused as the temperature heats up with these ultra-lightweight adidas shorts. Move naturally through your round from the first tee to the 18th green. Then head for the clubhouse feeling ready for whatever comes next.', \"You can't always be a force of nature in soccer training. So when the intensity drops and the winds pick up, this juniors' adidas Tiro 21 Windbreaker has you covered. Moisture-absorbing AEROREADY and a mesh lining keep you dry. The streamlined silhouette ensures nothing gets in the way of your ball skills on the touchline.\\n\\nThis product is made with recycled content as part of our ambition to end plastic waste.\", \"You can show your concern for the health of the oceans while you increase your fitness in the pool. This adidas swimsuit is designed for comfort and support. Soft and fully lined, it's made with yarn spun from recycled materials. Iconic 3-Stripes tape on the sides gives it a sporty and classic look.\", \"You can't always be a force of nature in soccer training. So when the intensity drops and the breeze picks up, this adidas Tiro 21 Windbreaker has you covered on the sidelines. Moisture-absorbing AEROREADY and a mesh lining help keep you dry while you're sheltering. The streamlined silhouette means you can stay mobile while you're waiting for the gusts to die down.\"\n",
      "$ brand          <str> 'adidas', 'adidas', 'adidas', 'adidas', 'adidas', 'adidas', 'adidas', 'adidas', 'adidas', 'adidas'\n",
      "$ images         <str> 'https://assets.adidas.com/images/w_600,f_auto,q_auto/adce4c860bd841e0a853aafd00b362d7_9366/Beach_Shorts_Black_FJ5089_21_model.jpg~https://assets.adidas.com/images/w_600,f_auto,q_auto/cad3233f6c2445e1a7fdaafd00b371ac_9366/Beach_Shorts_Black_FJ5089_22_model.jpg~https://assets.adidas.com/images/w_600,f_auto,q_auto/66223c9a595e40ef9c7caafd00b3809b_9366/Beach_Shorts_Black_FJ5089_23_hover_model.jpg~https://assets.adidas.com/images/w_600,f_auto,q_auto/85706d099dfc4092a373aafd00b38e36_9366/Beach_Shorts_Black_FJ5089_25_model.jpg~https://assets.adidas.com/images/w_600,f_auto,q_auto/139affb83f16488cb899aafd00b3e2b9_9366/Beach_Shorts_Black_FJ5089_01_laydown.jpg~https://assets.adidas.com/images/w_600,f_auto,q_auto/c235a4db563143b18db4aafd00b3ef38_9366/Beach_Shorts_Black_FJ5089_02_laydown.jpg~https://assets.adidas.com/images/w_600,f_auto,q_auto/3020a9362134409a9995aafd00b399d2_9366/Beach_Shorts_Black_FJ5089_25_outfit.jpg~https://assets.adidas.com/images/w_600,f_auto,q_auto/9a04933e87f24464b7b8aafd00b3a9aa_9366/Beach_Shorts_Black_FJ5089_41_detail.jpg~https://assets.adidas.com/images/w_600,f_auto,q_auto/2e48f8751aa54d9f9719aafd00b3b971_9366/Beach_Shorts_Black_FJ5089_42_detail.jpg~https://assets.adidas.com/images/w_600,f_auto,q_auto/5afa70cd99ce4e00abd9aafd00b3c915_9366/Beach_Shorts_Black_FJ5089_43_detail.jpg', 'https://assets.adidas.com/images/w_600,f_auto,q_auto/2b04943c525e4909a7a5a9fa0116153d_9366/Five_Ten_Kestrel_Lace_Mountain_Bike_Shoes_Grey_BC0770_01_standard.jpg~https://assets.adidas.com/images/w_600,f_auto,q_auto/64ef0f437ce249fe980da9fa01164284_9366/Five_Ten_Kestrel_Lace_Mountain_Bike_Shoes_Grey_BC0770_02_standard_hover.jpg~https://assets.adidas.com/images/w_600,f_auto,q_auto/12746d2167c348b2a583a9fa01169669_9366/Five_Ten_Kestrel_Lace_Mountain_Bike_Shoes_Grey_BC0770_03_standard.jpg~https://assets.adidas.com/images/w_600,f_auto,q_auto/91b253099ece4b6c8b5fa9fa0116a5a1_9366/Five_Ten_Kestrel_Lace_Mountain_Bike_Shoes_Grey_BC0770_04_standard.jpg~https://assets.adidas.com/images/w_600,f_auto,q_auto/a2b39ff910204553af50a9fa0116b3a0_9366/Five_Ten_Kestrel_Lace_Mountain_Bike_Shoes_Grey_BC0770_05_standard.jpg~https://assets.adidas.com/images/w_600,f_auto,q_auto/9294030e3be54f83854aa9fa01162719_9366/Five_Ten_Kestrel_Lace_Mountain_Bike_Shoes_Grey_BC0770_06_standard.jpg~https://assets.adidas.com/images/w_600,f_auto,q_auto/f2cc280368794b2c9a9ca9fa0116c094_9366/Five_Ten_Kestrel_Lace_Mountain_Bike_Shoes_Grey_BC0770_41_detail.jpg~https://assets.adidas.com/images/w_600,f_auto,q_auto/39426096737d4102b7ada9fa0116cceb_9366/Five_Ten_Kestrel_Lace_Mountain_Bike_Shoes_Grey_BC0770_42_detail.jpg~https://assets.adidas.com/images/w_600,f_auto,q_auto/9f384bc43cf84ce9845ca9fa0116d8b3_9366/Five_Ten_Kestrel_Lace_Mountain_Bike_Shoes_Grey_BC0770_43_detail.jpg', 'https://assets.adidas.com/images/w_600,f_auto,q_auto/4b12d5462aec410faee9ab1000feb34f_9366/Mexico_Away_Jersey_White_GC7946_01_laydown.jpg~https://assets.adidas.com/images/w_600,f_auto,q_auto/be2b4748ccd04e88b0e7ab1000fec081_9366/Mexico_Away_Jersey_White_GC7946_02_laydown_hover.jpg~https://assets.adidas.com/images/w_600,f_auto,q_auto/e538f94d0fd742868052ab1000fecdbb_9366/Mexico_Away_Jersey_White_GC7946_41_detail.jpg~https://assets.adidas.com/images/w_600,f_auto,q_auto/7f1492f2985841dbb59cab1000fedc44_9366/Mexico_Away_Jersey_White_GC7946_42_detail.jpg~https://assets.adidas.com/images/w_600,f_auto,q_auto/d3485a6cd3fd42c19083ab1000fee858_9366/Mexico_Away_Jersey_White_GC7946_43_detail.jpg', 'https://assets.adidas.com/images/w_600,f_auto,q_auto/a50bf634157248c99dbcac02007a8d9f_9366/Five_Ten_Hiangle_Pro_Competition_Climbing_Shoes_Black_FV4744_01_standard.jpg~https://assets.adidas.com/images/w_600,f_auto,q_auto/3c802934504e4b7fb3a3ac02007a9c73_9366/Five_Ten_Hiangle_Pro_Competition_Climbing_Shoes_Black_FV4744_02_standard_hover.jpg~https://assets.adidas.com/images/w_600,f_auto,q_auto/862a51ddd0df402e94e7ac02007aa392_9366/Five_Ten_Hiangle_Pro_Competition_Climbing_Shoes_Black_FV4744_03_standard.jpg~https://assets.adidas.com/images/w_600,f_auto,q_auto/a7f417bf88b44b07a792ac02007aab1d_9366/Five_Ten_Hiangle_Pro_Competition_Climbing_Shoes_Black_FV4744_04_standard.jpg~https://assets.adidas.com/images/w_600,f_auto,q_auto/18556e5bfa6d4438b363ac02007ab2a4_9366/Five_Ten_Hiangle_Pro_Competition_Climbing_Shoes_Black_FV4744_05_standard.jpg~https://assets.adidas.com/images/w_600,f_auto,q_auto/a78cc40417304c9ba71eac02007a9527_9366/Five_Ten_Hiangle_Pro_Competition_Climbing_Shoes_Black_FV4744_06_standard.jpg~https://assets.adidas.com/images/w_600,f_auto,q_auto/3bb67ff00e764e0ba5e8ac020080e925_9366/Five_Ten_Hiangle_Pro_Competition_Climbing_Shoes_Black_FV4744_09_standard.jpg~https://assets.adidas.com/images/w_600,f_auto,q_auto/cfbc398cd1fe4e6eb283ac02007aba39_9366/Five_Ten_Hiangle_Pro_Competition_Climbing_Shoes_Black_FV4744_41_detail.jpg~https://assets.adidas.com/images/w_600,f_auto,q_auto/2a09443d57c344719997ac02007ac15c_9366/Five_Ten_Hiangle_Pro_Competition_Climbing_Shoes_Black_FV4744_42_detail.jpg~https://assets.adidas.com/images/w_600,f_auto,q_auto/9f8beb8acfcb4d40a540ac02007ac719_9366/Five_Ten_Hiangle_Pro_Competition_Climbing_Shoes_Black_FV4744_43_detail.jpg~https://assets.adidas.com/images/w_600,f_auto,q_auto/2cef972779b941fa877eac8d011dca97_9366/Five_Ten_Hiangle_Pro_Competition_Climbing_Shoes_Black_FV4744_HM1.jpg~https://assets.adidas.com/images/w_600,f_auto,q_auto/9bbdc255ddd74d7cbe45ac8d011dcc07_9366/Five_Ten_Hiangle_Pro_Competition_Climbing_Shoes_Black_FV4744_HM2.jpg~https://assets.adidas.com/images/w_600,f_auto,q_auto/8d704616e0fa45a3ac06ac8d011dca28_9366/Five_Ten_Hiangle_Pro_Competition_Climbing_Shoes_Black_FV4744_HM3.jpg~https://assets.adidas.com/images/w_600,f_auto,q_auto/c6221d2435b8455eaa7aac8d011dcc7a_9366/Five_Ten_Hiangle_Pro_Competition_Climbing_Shoes_Black_FV4744_HM4.jpg', 'https://assets.adidas.com/images/w_600,f_auto,q_auto/0ca38931b0cb4d14a3daac440068e9bd_9366/Mesh_Broken-Stripe_Polo_Shirt_Blue_GM0239_21_model.jpg~https://assets.adidas.com/videos/w_600,f_auto,q_auto/1bbe25dd08504d208e00ac67008260b1_d98c/Mesh_Broken-Stripe_Polo_Shirt_Blue_GM0239_video.jpg~https://assets.adidas.com/images/w_600,f_auto,q_auto/88c92628bf8045dc8976ac4400689326_9366/Mesh_Broken-Stripe_Polo_Shirt_Blue_GM0239_23_hover_model.jpg~https://assets.adidas.com/images/w_600,f_auto,q_auto/c000838ecb3a481a8d53ac44006a5c86_9366/Mesh_Broken-Stripe_Polo_Shirt_Blue_GM0239_25_model.jpg~https://assets.adidas.com/images/w_600,f_auto,q_auto/217f93c3862e45648316ac5d011fe2b8_9366/Mesh_Broken-Stripe_Polo_Shirt_Blue_GM0239_01_laydown.jpg~https://assets.adidas.com/images/w_600,f_auto,q_auto/7978441ffc7d4852bc2fac44006cd80e_9366/Mesh_Broken-Stripe_Polo_Shirt_Blue_GM0239_41_detail.jpg~https://assets.adidas.com/images/w_600,f_auto,q_auto/1e31163790704db59eefac44006c056c_9366/Mesh_Broken-Stripe_Polo_Shirt_Blue_GM0239_42_detail.jpg', 'https://assets.adidas.com/images/w_600,f_auto,q_auto/868765405ea54c68abc4ac5c011bc36e_9366/EQT_Spikeless_Golf_Shoes_Grey_FX7449_01_standard.jpg~https://assets.adidas.com/images/w_600,f_auto,q_auto/8802ba989df94bee93c2ac5c011c07da_9366/EQT_Spikeless_Golf_Shoes_Grey_FX7449_02_standard_hover.jpg~https://assets.adidas.com/images/w_600,f_auto,q_auto/c18122833ea347b7aa9cac5c011d8dce_9366/EQT_Spikeless_Golf_Shoes_Grey_FX7449_03_standard.jpg~https://assets.adidas.com/images/w_600,f_auto,q_auto/7222417c2aec4b43939bac5c01230cbf_9366/EQT_Spikeless_Golf_Shoes_Grey_FX7449_04_standard.jpg~https://assets.adidas.com/images/w_600,f_auto,q_auto/a5f4360eb1174a7caf77ac5c011dab19_9366/EQT_Spikeless_Golf_Shoes_Grey_FX7449_05_standard.jpg~https://assets.adidas.com/images/w_600,f_auto,q_auto/0ee4ef2f134d46beaefcac5c011c4bca_9366/EQT_Spikeless_Golf_Shoes_Grey_FX7449_06_standard.jpg~https://assets.adidas.com/images/w_600,f_auto,q_auto/c81b0dcc39024b09bb51ac5c01212b69_9366/EQT_Spikeless_Golf_Shoes_Grey_FX7449_41_detail.jpg~https://assets.adidas.com/images/w_600,f_auto,q_auto/42c9abcf08844f079eadac5c0124420e_9366/EQT_Spikeless_Golf_Shoes_Grey_FX7449_42_detail.jpg~https://assets.adidas.com/images/w_600,f_auto,q_auto/4db8caf7fbe846f38d8ead1200ed952c_9366/EQT_Spikeless_Golf_Shoes_Grey_FX7449_HM1.jpg~https://assets.adidas.com/images/w_600,f_auto,q_auto/0e6c5319221947a9b446ad1200ed92c6_9366/EQT_Spikeless_Golf_Shoes_Grey_FX7449_HM2.jpg~https://assets.adidas.com/images/w_600,f_auto,q_auto/f3fa4c6e71b04d59af46ad1200ed9826_9366/EQT_Spikeless_Golf_Shoes_Grey_FX7449_HM3.jpg~https://assets.adidas.com/images/w_600,f_auto,q_auto/f49e6ede5a1248f1b189ad1200ed941b_9366/EQT_Spikeless_Golf_Shoes_Grey_FX7449_HM4.jpg', 'https://assets.adidas.com/images/w_600,f_auto,q_auto/680d1a3589b54d1da173ac32014b9a37_9366/Adicross_Hybrid_Shorts_Black_GM5505_21_model.jpg~https://assets.adidas.com/images/w_600,f_auto,q_auto/8a951cea4d324d648f42ac32014b0cd0_9366/Adicross_Hybrid_Shorts_Black_GM5505_23_hover_model.jpg~https://assets.adidas.com/images/w_600,f_auto,q_auto/7a3a8be910434d1a9ea0ac320151acfc_9366/Adicross_Hybrid_Shorts_Black_GM5505_25_model.jpg~https://assets.adidas.com/images/w_600,f_auto,q_auto/42f190513c264f7793c1ac2800a75d4f_9366/Adicross_Hybrid_Shorts_Black_GM5505_01_laydown.jpg~https://assets.adidas.com/images/w_600,f_auto,q_auto/37b6760a80a04ea99118ac32015339e6_9366/Adicross_Hybrid_Shorts_Black_GM5505_25_outfit.jpg~https://assets.adidas.com/images/w_600,f_auto,q_auto/5e1190c0b3a34f3a9d15ac32014c4a91_9366/Adicross_Hybrid_Shorts_Black_GM5505_41_detail.jpg~https://assets.adidas.com/images/w_600,f_auto,q_auto/4c3fbb1cde784883a856ac32014cdc3e_9366/Adicross_Hybrid_Shorts_Black_GM5505_42_detail.jpg~https://assets.adidas.com/images/w_600,f_auto,q_auto/51cd7c3c62154677a96fad3d0106142d_9366/Adicross_Hybrid_Shorts_Black_GM5505_HM1.jpg~https://assets.adidas.com/images/w_600,f_auto,q_auto/4c62c330d94644aaa144ad3d01061458_9366/Adicross_Hybrid_Shorts_Black_GM5505_HM2.jpg~https://assets.adidas.com/images/w_600,f_auto,q_auto/9779f7b8650b42edbe62ad3d0106129a_9366/Adicross_Hybrid_Shorts_Black_GM5505_HM3.jpg', 'https://assets.adidas.com/images/w_600,f_auto,q_auto/304055d5fec84445b597ac4500f9c26b_9366/Tiro_21_Windbreaker_Black_GP4975_01_laydown.jpg~https://assets.adidas.com/images/w_600,f_auto,q_auto/958486c0f4dc4d35968fac4500f9cde9_9366/Tiro_21_Windbreaker_Black_GP4975_02_laydown_hover.jpg~https://assets.adidas.com/images/w_600,f_auto,q_auto/c1703f01d98847d19348ac4500f9d8e7_9366/Tiro_21_Windbreaker_Black_GP4975_41_detail.jpg~https://assets.adidas.com/images/w_600,f_auto,q_auto/13c662856c3e422ca2daac4500fa09a6_9366/Tiro_21_Windbreaker_Black_GP4975_42_detail.jpg~https://assets.adidas.com/images/w_600,f_auto,q_auto/a92321113ca8409fa818ac4500fa1573_9366/Tiro_21_Windbreaker_Black_GP4975_43_detail.jpg', 'https://assets.adidas.com/images/w_600,f_auto,q_auto/f8b3261ac689442f8ecfabd601157e2e_9366/Classic_3-Stripes_Swimsuit_Black_FS3923_21_model.jpg~https://assets.adidas.com/videos/w_600,f_auto,q_auto/bb3ec78ad2da44458de2abd600e402e3_d98c/Classic_3-Stripes_Swimsuit_Black_FS3923_video.jpg~https://assets.adidas.com/images/w_600,f_auto,q_auto/abac76fbd2f648008f0aabd601158b8c_9366/Classic_3-Stripes_Swimsuit_Black_FS3923_22_model.jpg~https://assets.adidas.com/images/w_600,f_auto,q_auto/19f5d6aaa3f445549545abd6011598df_9366/Classic_3-Stripes_Swimsuit_Black_FS3923_23_hover_model.jpg~https://assets.adidas.com/images/w_600,f_auto,q_auto/7713d9e3a53c4f269927abd60115a607_9366/Classic_3-Stripes_Swimsuit_Black_FS3923_25_model.jpg~https://assets.adidas.com/images/w_600,f_auto,q_auto/1364a4e0bf984c5fac5babbb0138ecad_9366/Classic_3-Stripes_Swimsuit_Black_FS3923_01_laydown.jpg~https://assets.adidas.com/images/w_600,f_auto,q_auto/a795d4a07b2542e6a1ababbb0138f765_9366/Classic_3-Stripes_Swimsuit_Black_FS3923_02_laydown.jpg~https://assets.adidas.com/images/w_600,f_auto,q_auto/9560b8e4ecb246a2b27fabd60115b5d8_9366/Classic_3-Stripes_Swimsuit_Black_FS3923_41_detail.jpg~https://assets.adidas.com/images/w_600,f_auto,q_auto/ce2f06888c984edc958cabd60115c750_9366/Classic_3-Stripes_Swimsuit_Black_FS3923_42_detail.jpg~https://assets.adidas.com/images/w_600,f_auto,q_auto/59fdce4cb6a24a28a4fcabd60115d73e_9366/Classic_3-Stripes_Swimsuit_Black_FS3923_43_detail.jpg', 'https://assets.adidas.com/images/w_600,f_auto,q_auto/5aee09254c2446da9ed0ac560162c59e_9366/Tiro_21_Windbreaker_Black_GP4967_21_model.jpg~https://assets.adidas.com/images/w_600,f_auto,q_auto/322a910a33f14f3684e2ac560162d2b9_9366/Tiro_21_Windbreaker_Black_GP4967_23_hover_model.jpg~https://assets.adidas.com/images/w_600,f_auto,q_auto/37ffd15b692940cc9ebdac560162e1b1_9366/Tiro_21_Windbreaker_Black_GP4967_25_model.jpg~https://assets.adidas.com/images/w_600,f_auto,q_auto/a0e207c7be8c4a34b51bac460117eb5e_9366/Tiro_21_Windbreaker_Black_GP4967_01_laydown.jpg~https://assets.adidas.com/images/w_600,f_auto,q_auto/e6b2f31f92ca4d98a81aac5601631739_9366/Tiro_21_Windbreaker_Black_GP4967_41_detail.jpg~https://assets.adidas.com/images/w_600,f_auto,q_auto/46d523a753ff49d2b0bdac560163264c_9366/Tiro_21_Windbreaker_Black_GP4967_42_detail.jpg'\n",
      "$ country        <str> 'USA', 'USA', 'USA', 'USA', 'USA', 'USA', 'USA', 'USA', 'USA', 'USA'\n",
      "$ language       <str> 'en', 'en', 'en', 'en', 'en', 'en', 'en', 'en', 'en', 'en'\n",
      "$ average_rating <f64> 4.5, 4.8, 4.9, 3.7, 4.7, 4.9, 4.5, 4.5, 4.5, 4.8\n",
      "$ reviews_count  <i64> 35, 4, 42, 7, 11, 30, 17, 16, 35, 66\n",
      "$ crawled_at     <str> '2021-10-23 17:50:17', '2021-10-23 17:50:17', '2021-10-23 17:50:18', '2021-10-23 17:50:18', '2021-10-23 17:50:18', '2021-10-23 17:50:18', '2021-10-23 17:50:18', '2021-10-23 17:50:18', '2021-10-23 17:50:18', '2021-10-23 17:50:19'\n",
      "\n"
     ]
    }
   ],
   "source": [
    "df.glimpse()"
   ]
  },
  {
   "cell_type": "markdown",
   "id": "b74bd2fb-4c35-4797-bc87-f0d171715718",
   "metadata": {},
   "source": [
    "## Selecting Rows"
   ]
  },
  {
   "cell_type": "code",
   "execution_count": 13,
   "id": "c864910f-5022-4495-8b97-985d288a9dad",
   "metadata": {},
   "outputs": [
    {
     "data": {
      "text/html": [
       "<div><style>\n",
       ".dataframe > thead > tr,\n",
       ".dataframe > tbody > tr {\n",
       "  text-align: right;\n",
       "  white-space: pre-wrap;\n",
       "}\n",
       "</style>\n",
       "<small>shape: (1, 20)</small><table border=\"1\" class=\"dataframe\"><thead><tr><th>url</th><th>name</th><th>sku</th><th>selling_price</th><th>original_price</th><th>currency</th><th>availability</th><th>color</th><th>category</th><th>source</th><th>source_website</th><th>breadcrumbs</th><th>description</th><th>brand</th><th>images</th><th>country</th><th>language</th><th>average_rating</th><th>reviews_count</th><th>crawled_at</th></tr><tr><td>str</td><td>str</td><td>str</td><td>i64</td><td>str</td><td>str</td><td>str</td><td>str</td><td>str</td><td>str</td><td>str</td><td>str</td><td>str</td><td>str</td><td>str</td><td>str</td><td>str</td><td>f64</td><td>i64</td><td>str</td></tr></thead><tbody><tr><td>&quot;https://www.adidas.com/us/beac…</td><td>&quot;Beach Shorts&quot;</td><td>&quot;FJ5089&quot;</td><td>40</td><td>null</td><td>&quot;USD&quot;</td><td>&quot;InStock&quot;</td><td>&quot;Black&quot;</td><td>&quot;Clothing&quot;</td><td>&quot;adidas United States&quot;</td><td>&quot;https://www.adidas.com&quot;</td><td>&quot;Women/Clothing&quot;</td><td>&quot;Splashing in the surf. Making …</td><td>&quot;adidas&quot;</td><td>&quot;https://assets.adidas.com/imag…</td><td>&quot;USA&quot;</td><td>&quot;en&quot;</td><td>4.5</td><td>35</td><td>&quot;2021-10-23 17:50:17&quot;</td></tr></tbody></table></div>"
      ],
      "text/plain": [
       "shape: (1, 20)\n",
       "┌─────────────────────────────┬──────────────┬────────┬───────────────┬───┬──────────┬────────────────┬───────────────┬────────────┐\n",
       "│ url                         ┆ name         ┆ sku    ┆ selling_price ┆ … ┆ language ┆ average_rating ┆ reviews_count ┆ crawled_at │\n",
       "│ ---                         ┆ ---          ┆ ---    ┆ ---           ┆   ┆ ---      ┆ ---            ┆ ---           ┆ ---        │\n",
       "│ str                         ┆ str          ┆ str    ┆ i64           ┆   ┆ str      ┆ f64            ┆ i64           ┆ str        │\n",
       "╞═════════════════════════════╪══════════════╪════════╪═══════════════╪═══╪══════════╪════════════════╪═══════════════╪════════════╡\n",
       "│ https://www.adidas.com/us/b ┆ Beach Shorts ┆ FJ5089 ┆ 40            ┆ … ┆ en       ┆ 4.5            ┆ 35            ┆ 2021-10-23 │\n",
       "│ eac…                        ┆              ┆        ┆               ┆   ┆          ┆                ┆               ┆ 17:50:17   │\n",
       "└─────────────────────────────┴──────────────┴────────┴───────────────┴───┴──────────┴────────────────┴───────────────┴────────────┘"
      ]
     },
     "execution_count": 13,
     "metadata": {},
     "output_type": "execute_result"
    }
   ],
   "source": [
    "df[0]"
   ]
  },
  {
   "cell_type": "markdown",
   "id": "6d1feee1-cfa6-4811-a2c5-2865cfa61678",
   "metadata": {},
   "source": [
    "## Selecting a range of rows"
   ]
  },
  {
   "cell_type": "code",
   "execution_count": 15,
   "id": "9f7c3b12-0647-4935-80da-b8354355d1bc",
   "metadata": {},
   "outputs": [
    {
     "data": {
      "text/html": [
       "<div><style>\n",
       ".dataframe > thead > tr,\n",
       ".dataframe > tbody > tr {\n",
       "  text-align: right;\n",
       "  white-space: pre-wrap;\n",
       "}\n",
       "</style>\n",
       "<small>shape: (4, 20)</small><table border=\"1\" class=\"dataframe\"><thead><tr><th>url</th><th>name</th><th>sku</th><th>selling_price</th><th>original_price</th><th>currency</th><th>availability</th><th>color</th><th>category</th><th>source</th><th>source_website</th><th>breadcrumbs</th><th>description</th><th>brand</th><th>images</th><th>country</th><th>language</th><th>average_rating</th><th>reviews_count</th><th>crawled_at</th></tr><tr><td>str</td><td>str</td><td>str</td><td>i64</td><td>str</td><td>str</td><td>str</td><td>str</td><td>str</td><td>str</td><td>str</td><td>str</td><td>str</td><td>str</td><td>str</td><td>str</td><td>str</td><td>f64</td><td>i64</td><td>str</td></tr></thead><tbody><tr><td>&quot;https://www.adidas.com/us/beac…</td><td>&quot;Beach Shorts&quot;</td><td>&quot;FJ5089&quot;</td><td>40</td><td>null</td><td>&quot;USD&quot;</td><td>&quot;InStock&quot;</td><td>&quot;Black&quot;</td><td>&quot;Clothing&quot;</td><td>&quot;adidas United States&quot;</td><td>&quot;https://www.adidas.com&quot;</td><td>&quot;Women/Clothing&quot;</td><td>&quot;Splashing in the surf. Making …</td><td>&quot;adidas&quot;</td><td>&quot;https://assets.adidas.com/imag…</td><td>&quot;USA&quot;</td><td>&quot;en&quot;</td><td>4.5</td><td>35</td><td>&quot;2021-10-23 17:50:17&quot;</td></tr><tr><td>&quot;https://www.adidas.com/us/five…</td><td>&quot;Five Ten Kestrel Lace Mountain…</td><td>&quot;BC0770&quot;</td><td>150</td><td>null</td><td>&quot;USD&quot;</td><td>&quot;InStock&quot;</td><td>&quot;Grey&quot;</td><td>&quot;Shoes&quot;</td><td>&quot;adidas United States&quot;</td><td>&quot;https://www.adidas.com&quot;</td><td>&quot;Women/Shoes&quot;</td><td>&quot;Lace up and get after it. The …</td><td>&quot;adidas&quot;</td><td>&quot;https://assets.adidas.com/imag…</td><td>&quot;USA&quot;</td><td>&quot;en&quot;</td><td>4.8</td><td>4</td><td>&quot;2021-10-23 17:50:17&quot;</td></tr><tr><td>&quot;https://www.adidas.com/us/mexi…</td><td>&quot;Mexico Away Jersey&quot;</td><td>&quot;GC7946&quot;</td><td>70</td><td>null</td><td>&quot;USD&quot;</td><td>&quot;InStock&quot;</td><td>&quot;White&quot;</td><td>&quot;Clothing&quot;</td><td>&quot;adidas United States&quot;</td><td>&quot;https://www.adidas.com&quot;</td><td>&quot;Kids/Clothing&quot;</td><td>&quot;Clean and crisp, this adidas M…</td><td>&quot;adidas&quot;</td><td>&quot;https://assets.adidas.com/imag…</td><td>&quot;USA&quot;</td><td>&quot;en&quot;</td><td>4.9</td><td>42</td><td>&quot;2021-10-23 17:50:18&quot;</td></tr><tr><td>&quot;https://www.adidas.com/us/five…</td><td>&quot;Five Ten Hiangle Pro Competiti…</td><td>&quot;FV4744&quot;</td><td>160</td><td>null</td><td>&quot;USD&quot;</td><td>&quot;InStock&quot;</td><td>&quot;Black&quot;</td><td>&quot;Shoes&quot;</td><td>&quot;adidas United States&quot;</td><td>&quot;https://www.adidas.com&quot;</td><td>&quot;Five Ten/Shoes&quot;</td><td>&quot;The Hiangle Pro takes on the c…</td><td>&quot;adidas&quot;</td><td>&quot;https://assets.adidas.com/imag…</td><td>&quot;USA&quot;</td><td>&quot;en&quot;</td><td>3.7</td><td>7</td><td>&quot;2021-10-23 17:50:18&quot;</td></tr></tbody></table></div>"
      ],
      "text/plain": [
       "shape: (4, 20)\n",
       "┌──────────────────────┬─────────────────────┬────────┬───────────────┬───┬──────────┬────────────────┬───────────────┬────────────┐\n",
       "│ url                  ┆ name                ┆ sku    ┆ selling_price ┆ … ┆ language ┆ average_rating ┆ reviews_count ┆ crawled_at │\n",
       "│ ---                  ┆ ---                 ┆ ---    ┆ ---           ┆   ┆ ---      ┆ ---            ┆ ---           ┆ ---        │\n",
       "│ str                  ┆ str                 ┆ str    ┆ i64           ┆   ┆ str      ┆ f64            ┆ i64           ┆ str        │\n",
       "╞══════════════════════╪═════════════════════╪════════╪═══════════════╪═══╪══════════╪════════════════╪═══════════════╪════════════╡\n",
       "│ https://www.adidas.c ┆ Beach Shorts        ┆ FJ5089 ┆ 40            ┆ … ┆ en       ┆ 4.5            ┆ 35            ┆ 2021-10-23 │\n",
       "│ om/us/beac…          ┆                     ┆        ┆               ┆   ┆          ┆                ┆               ┆ 17:50:17   │\n",
       "│ https://www.adidas.c ┆ Five Ten Kestrel    ┆ BC0770 ┆ 150           ┆ … ┆ en       ┆ 4.8            ┆ 4             ┆ 2021-10-23 │\n",
       "│ om/us/five…          ┆ Lace Mountain…      ┆        ┆               ┆   ┆          ┆                ┆               ┆ 17:50:17   │\n",
       "│ https://www.adidas.c ┆ Mexico Away Jersey  ┆ GC7946 ┆ 70            ┆ … ┆ en       ┆ 4.9            ┆ 42            ┆ 2021-10-23 │\n",
       "│ om/us/mexi…          ┆                     ┆        ┆               ┆   ┆          ┆                ┆               ┆ 17:50:18   │\n",
       "│ https://www.adidas.c ┆ Five Ten Hiangle    ┆ FV4744 ┆ 160           ┆ … ┆ en       ┆ 3.7            ┆ 7             ┆ 2021-10-23 │\n",
       "│ om/us/five…          ┆ Pro Competiti…      ┆        ┆               ┆   ┆          ┆                ┆               ┆ 17:50:18   │\n",
       "└──────────────────────┴─────────────────────┴────────┴───────────────┴───┴──────────┴────────────────┴───────────────┴────────────┘"
      ]
     },
     "execution_count": 15,
     "metadata": {},
     "output_type": "execute_result"
    }
   ],
   "source": [
    "df[0:4]"
   ]
  },
  {
   "cell_type": "markdown",
   "id": "1114c0f3-dc01-43a6-84ae-79b299be179b",
   "metadata": {},
   "source": [
    "## Creating a Series of a Column"
   ]
  },
  {
   "cell_type": "code",
   "execution_count": 16,
   "id": "6dec118f-15b3-4b81-a235-2eb6d84d70fc",
   "metadata": {},
   "outputs": [
    {
     "data": {
      "text/html": [
       "<div><style>\n",
       ".dataframe > thead > tr,\n",
       ".dataframe > tbody > tr {\n",
       "  text-align: right;\n",
       "  white-space: pre-wrap;\n",
       "}\n",
       "</style>\n",
       "<small>shape: (845,)</small><table border=\"1\" class=\"dataframe\"><thead><tr><th>name</th></tr><tr><td>str</td></tr></thead><tbody><tr><td>&quot;Beach Shorts&quot;</td></tr><tr><td>&quot;Five Ten Kestrel Lace Mountain…</td></tr><tr><td>&quot;Mexico Away Jersey&quot;</td></tr><tr><td>&quot;Five Ten Hiangle Pro Competiti…</td></tr><tr><td>&quot;Mesh Broken-Stripe Polo Shirt&quot;</td></tr><tr><td>&hellip;</td></tr><tr><td>&quot;Supernova+ Shoes&quot;</td></tr><tr><td>&quot;Choigo Shoes&quot;</td></tr><tr><td>&quot;Daily 3.0 Shoes&quot;</td></tr><tr><td>&quot;Daily 3.0 Shoes&quot;</td></tr><tr><td>&quot;Choigo Shoes&quot;</td></tr></tbody></table></div>"
      ],
      "text/plain": [
       "shape: (845,)\n",
       "Series: 'name' [str]\n",
       "[\n",
       "\t\"Beach Shorts\"\n",
       "\t\"Five Ten Kestrel Lace Mountain…\n",
       "\t\"Mexico Away Jersey\"\n",
       "\t\"Five Ten Hiangle Pro Competiti…\n",
       "\t\"Mesh Broken-Stripe Polo Shirt\"\n",
       "\t…\n",
       "\t\"Supernova+ Shoes\"\n",
       "\t\"Choigo Shoes\"\n",
       "\t\"Daily 3.0 Shoes\"\n",
       "\t\"Daily 3.0 Shoes\"\n",
       "\t\"Choigo Shoes\"\n",
       "]"
      ]
     },
     "execution_count": 16,
     "metadata": {},
     "output_type": "execute_result"
    }
   ],
   "source": [
    "df[\"name\"]"
   ]
  },
  {
   "cell_type": "markdown",
   "id": "71b11a04-82cb-496b-beba-636a0e11a36b",
   "metadata": {},
   "source": [
    "## Multiple selection of columns"
   ]
  },
  {
   "cell_type": "code",
   "execution_count": 17,
   "id": "c3d3094a-fa71-4282-a8ae-679268e13244",
   "metadata": {},
   "outputs": [
    {
     "data": {
      "text/html": [
       "<div><style>\n",
       ".dataframe > thead > tr,\n",
       ".dataframe > tbody > tr {\n",
       "  text-align: right;\n",
       "  white-space: pre-wrap;\n",
       "}\n",
       "</style>\n",
       "<small>shape: (845, 2)</small><table border=\"1\" class=\"dataframe\"><thead><tr><th>name</th><th>country</th></tr><tr><td>str</td><td>str</td></tr></thead><tbody><tr><td>&quot;Beach Shorts&quot;</td><td>&quot;USA&quot;</td></tr><tr><td>&quot;Five Ten Kestrel Lace Mountain…</td><td>&quot;USA&quot;</td></tr><tr><td>&quot;Mexico Away Jersey&quot;</td><td>&quot;USA&quot;</td></tr><tr><td>&quot;Five Ten Hiangle Pro Competiti…</td><td>&quot;USA&quot;</td></tr><tr><td>&quot;Mesh Broken-Stripe Polo Shirt&quot;</td><td>&quot;USA&quot;</td></tr><tr><td>&hellip;</td><td>&hellip;</td></tr><tr><td>&quot;Supernova+ Shoes&quot;</td><td>&quot;USA&quot;</td></tr><tr><td>&quot;Choigo Shoes&quot;</td><td>&quot;USA&quot;</td></tr><tr><td>&quot;Daily 3.0 Shoes&quot;</td><td>&quot;USA&quot;</td></tr><tr><td>&quot;Daily 3.0 Shoes&quot;</td><td>&quot;USA&quot;</td></tr><tr><td>&quot;Choigo Shoes&quot;</td><td>&quot;USA&quot;</td></tr></tbody></table></div>"
      ],
      "text/plain": [
       "shape: (845, 2)\n",
       "┌─────────────────────────────────┬─────────┐\n",
       "│ name                            ┆ country │\n",
       "│ ---                             ┆ ---     │\n",
       "│ str                             ┆ str     │\n",
       "╞═════════════════════════════════╪═════════╡\n",
       "│ Beach Shorts                    ┆ USA     │\n",
       "│ Five Ten Kestrel Lace Mountain… ┆ USA     │\n",
       "│ Mexico Away Jersey              ┆ USA     │\n",
       "│ Five Ten Hiangle Pro Competiti… ┆ USA     │\n",
       "│ Mesh Broken-Stripe Polo Shirt   ┆ USA     │\n",
       "│ …                               ┆ …       │\n",
       "│ Supernova+ Shoes                ┆ USA     │\n",
       "│ Choigo Shoes                    ┆ USA     │\n",
       "│ Daily 3.0 Shoes                 ┆ USA     │\n",
       "│ Daily 3.0 Shoes                 ┆ USA     │\n",
       "│ Choigo Shoes                    ┆ USA     │\n",
       "└─────────────────────────────────┴─────────┘"
      ]
     },
     "execution_count": 17,
     "metadata": {},
     "output_type": "execute_result"
    }
   ],
   "source": [
    "df[[\"name\", \"country\"]]"
   ]
  },
  {
   "cell_type": "markdown",
   "id": "4c8cbecc-65b1-412d-8050-548de67ce811",
   "metadata": {},
   "source": [
    "## Selecting Rows and Columns"
   ]
  },
  {
   "cell_type": "code",
   "execution_count": 19,
   "id": "ce20aad7-785a-4734-a15c-fa80a44f2dab",
   "metadata": {},
   "outputs": [
    {
     "data": {
      "text/html": [
       "<div><style>\n",
       ".dataframe > thead > tr,\n",
       ".dataframe > tbody > tr {\n",
       "  text-align: right;\n",
       "  white-space: pre-wrap;\n",
       "}\n",
       "</style>\n",
       "<small>shape: (3, 2)</small><table border=\"1\" class=\"dataframe\"><thead><tr><th>name</th><th>country</th></tr><tr><td>str</td><td>str</td></tr></thead><tbody><tr><td>&quot;Beach Shorts&quot;</td><td>&quot;USA&quot;</td></tr><tr><td>&quot;Five Ten Kestrel Lace Mountain…</td><td>&quot;USA&quot;</td></tr><tr><td>&quot;Mexico Away Jersey&quot;</td><td>&quot;USA&quot;</td></tr></tbody></table></div>"
      ],
      "text/plain": [
       "shape: (3, 2)\n",
       "┌─────────────────────────────────┬─────────┐\n",
       "│ name                            ┆ country │\n",
       "│ ---                             ┆ ---     │\n",
       "│ str                             ┆ str     │\n",
       "╞═════════════════════════════════╪═════════╡\n",
       "│ Beach Shorts                    ┆ USA     │\n",
       "│ Five Ten Kestrel Lace Mountain… ┆ USA     │\n",
       "│ Mexico Away Jersey              ┆ USA     │\n",
       "└─────────────────────────────────┴─────────┘"
      ]
     },
     "execution_count": 19,
     "metadata": {},
     "output_type": "execute_result"
    }
   ],
   "source": [
    "df[:3, [\"name\", \"country\"]]"
   ]
  },
  {
   "cell_type": "markdown",
   "id": "16f8d955-4a06-4950-ad83-15d7bc9ea8d2",
   "metadata": {},
   "source": [
    "## Using .select() method"
   ]
  },
  {
   "cell_type": "code",
   "execution_count": 20,
   "id": "4261bceb-ba24-47fc-8408-e3c210138a4f",
   "metadata": {},
   "outputs": [
    {
     "data": {
      "text/html": [
       "<div><style>\n",
       ".dataframe > thead > tr,\n",
       ".dataframe > tbody > tr {\n",
       "  text-align: right;\n",
       "  white-space: pre-wrap;\n",
       "}\n",
       "</style>\n",
       "<small>shape: (845, 2)</small><table border=\"1\" class=\"dataframe\"><thead><tr><th>name</th><th>country</th></tr><tr><td>str</td><td>str</td></tr></thead><tbody><tr><td>&quot;Beach Shorts&quot;</td><td>&quot;USA&quot;</td></tr><tr><td>&quot;Five Ten Kestrel Lace Mountain…</td><td>&quot;USA&quot;</td></tr><tr><td>&quot;Mexico Away Jersey&quot;</td><td>&quot;USA&quot;</td></tr><tr><td>&quot;Five Ten Hiangle Pro Competiti…</td><td>&quot;USA&quot;</td></tr><tr><td>&quot;Mesh Broken-Stripe Polo Shirt&quot;</td><td>&quot;USA&quot;</td></tr><tr><td>&hellip;</td><td>&hellip;</td></tr><tr><td>&quot;Supernova+ Shoes&quot;</td><td>&quot;USA&quot;</td></tr><tr><td>&quot;Choigo Shoes&quot;</td><td>&quot;USA&quot;</td></tr><tr><td>&quot;Daily 3.0 Shoes&quot;</td><td>&quot;USA&quot;</td></tr><tr><td>&quot;Daily 3.0 Shoes&quot;</td><td>&quot;USA&quot;</td></tr><tr><td>&quot;Choigo Shoes&quot;</td><td>&quot;USA&quot;</td></tr></tbody></table></div>"
      ],
      "text/plain": [
       "shape: (845, 2)\n",
       "┌─────────────────────────────────┬─────────┐\n",
       "│ name                            ┆ country │\n",
       "│ ---                             ┆ ---     │\n",
       "│ str                             ┆ str     │\n",
       "╞═════════════════════════════════╪═════════╡\n",
       "│ Beach Shorts                    ┆ USA     │\n",
       "│ Five Ten Kestrel Lace Mountain… ┆ USA     │\n",
       "│ Mexico Away Jersey              ┆ USA     │\n",
       "│ Five Ten Hiangle Pro Competiti… ┆ USA     │\n",
       "│ Mesh Broken-Stripe Polo Shirt   ┆ USA     │\n",
       "│ …                               ┆ …       │\n",
       "│ Supernova+ Shoes                ┆ USA     │\n",
       "│ Choigo Shoes                    ┆ USA     │\n",
       "│ Daily 3.0 Shoes                 ┆ USA     │\n",
       "│ Daily 3.0 Shoes                 ┆ USA     │\n",
       "│ Choigo Shoes                    ┆ USA     │\n",
       "└─────────────────────────────────┴─────────┘"
      ]
     },
     "execution_count": 20,
     "metadata": {},
     "output_type": "execute_result"
    }
   ],
   "source": [
    "df.select(\"name\", \"country\")"
   ]
  },
  {
   "cell_type": "code",
   "execution_count": 21,
   "id": "b4df1ff8-2abb-455a-bead-02c587587140",
   "metadata": {},
   "outputs": [
    {
     "data": {
      "text/html": [
       "<div><style>\n",
       ".dataframe > thead > tr,\n",
       ".dataframe > tbody > tr {\n",
       "  text-align: right;\n",
       "  white-space: pre-wrap;\n",
       "}\n",
       "</style>\n",
       "<small>shape: (845, 2)</small><table border=\"1\" class=\"dataframe\"><thead><tr><th>color</th><th>brand</th></tr><tr><td>str</td><td>str</td></tr></thead><tbody><tr><td>&quot;Black&quot;</td><td>&quot;adidas&quot;</td></tr><tr><td>&quot;Grey&quot;</td><td>&quot;adidas&quot;</td></tr><tr><td>&quot;White&quot;</td><td>&quot;adidas&quot;</td></tr><tr><td>&quot;Black&quot;</td><td>&quot;adidas&quot;</td></tr><tr><td>&quot;Blue&quot;</td><td>&quot;adidas&quot;</td></tr><tr><td>&hellip;</td><td>&hellip;</td></tr><tr><td>&quot;White&quot;</td><td>&quot;adidas&quot;</td></tr><tr><td>&quot;White&quot;</td><td>&quot;adidas&quot;</td></tr><tr><td>&quot;Black&quot;</td><td>&quot;adidas&quot;</td></tr><tr><td>&quot;Pink&quot;</td><td>&quot;adidas&quot;</td></tr><tr><td>&quot;Black&quot;</td><td>&quot;adidas&quot;</td></tr></tbody></table></div>"
      ],
      "text/plain": [
       "shape: (845, 2)\n",
       "┌───────┬────────┐\n",
       "│ color ┆ brand  │\n",
       "│ ---   ┆ ---    │\n",
       "│ str   ┆ str    │\n",
       "╞═══════╪════════╡\n",
       "│ Black ┆ adidas │\n",
       "│ Grey  ┆ adidas │\n",
       "│ White ┆ adidas │\n",
       "│ Black ┆ adidas │\n",
       "│ Blue  ┆ adidas │\n",
       "│ …     ┆ …      │\n",
       "│ White ┆ adidas │\n",
       "│ White ┆ adidas │\n",
       "│ Black ┆ adidas │\n",
       "│ Pink  ┆ adidas │\n",
       "│ Black ┆ adidas │\n",
       "└───────┴────────┘"
      ]
     },
     "execution_count": 21,
     "metadata": {},
     "output_type": "execute_result"
    }
   ],
   "source": [
    "df.select([\"color\", \"brand\"])"
   ]
  },
  {
   "cell_type": "markdown",
   "id": "0becb832-1e27-4c3b-b9a4-8b3e74540d69",
   "metadata": {},
   "source": [
    "## Sorting Columns"
   ]
  },
  {
   "cell_type": "code",
   "execution_count": 24,
   "id": "141ff455-a10e-4736-986e-bfe051f5784a",
   "metadata": {},
   "outputs": [
    {
     "data": {
      "text/html": [
       "<div><style>\n",
       ".dataframe > thead > tr,\n",
       ".dataframe > tbody > tr {\n",
       "  text-align: right;\n",
       "  white-space: pre-wrap;\n",
       "}\n",
       "</style>\n",
       "<small>shape: (5, 20)</small><table border=\"1\" class=\"dataframe\"><thead><tr><th>url</th><th>name</th><th>sku</th><th>selling_price</th><th>original_price</th><th>currency</th><th>availability</th><th>color</th><th>category</th><th>source</th><th>source_website</th><th>breadcrumbs</th><th>description</th><th>brand</th><th>images</th><th>country</th><th>language</th><th>average_rating</th><th>reviews_count</th><th>crawled_at</th></tr><tr><td>str</td><td>str</td><td>str</td><td>i64</td><td>str</td><td>str</td><td>str</td><td>str</td><td>str</td><td>str</td><td>str</td><td>str</td><td>str</td><td>str</td><td>str</td><td>str</td><td>str</td><td>f64</td><td>i64</td><td>str</td></tr></thead><tbody><tr><td>&quot;https://www.adidas.com/us/stan…</td><td>&quot;Stan Smith Shoes&quot;</td><td>&quot;GZ7767&quot;</td><td>72</td><td>&quot;$90&quot;</td><td>&quot;USD&quot;</td><td>&quot;InStock&quot;</td><td>&quot;White&quot;</td><td>&quot;Shoes&quot;</td><td>&quot;adidas United States&quot;</td><td>&quot;https://www.adidas.com&quot;</td><td>&quot;Men/Shoes&quot;</td><td>&quot;Since the &#x27;70s, millions of fe…</td><td>&quot;adidas&quot;</td><td>&quot;https://assets.adidas.com/imag…</td><td>&quot;USA&quot;</td><td>&quot;en&quot;</td><td>4.7</td><td>11750</td><td>&quot;2021-10-23 17:51:05&quot;</td></tr><tr><td>&quot;https://www.adidas.com/us/stan…</td><td>&quot;Stan Smith Shoes&quot;</td><td>&quot;GY5460&quot;</td><td>72</td><td>&quot;$90&quot;</td><td>&quot;USD&quot;</td><td>&quot;InStock&quot;</td><td>&quot;White&quot;</td><td>&quot;Shoes&quot;</td><td>&quot;adidas United States&quot;</td><td>&quot;https://www.adidas.com&quot;</td><td>&quot;Men/Shoes&quot;</td><td>&quot;Ever since they appeared on th…</td><td>&quot;adidas&quot;</td><td>&quot;https://assets.adidas.com/imag…</td><td>&quot;USA&quot;</td><td>&quot;en&quot;</td><td>4.7</td><td>11750</td><td>&quot;2021-10-23 17:51:05&quot;</td></tr><tr><td>&quot;https://www.adidas.com/us/stan…</td><td>&quot;Stan Smith Shoes&quot;</td><td>&quot;GV7665&quot;</td><td>80</td><td>&quot;$100&quot;</td><td>&quot;USD&quot;</td><td>&quot;InStock&quot;</td><td>&quot;White&quot;</td><td>&quot;Shoes&quot;</td><td>&quot;adidas United States&quot;</td><td>&quot;https://www.adidas.com&quot;</td><td>&quot;Originals/Shoes&quot;</td><td>&quot;When it comes to the adidas St…</td><td>&quot;adidas&quot;</td><td>&quot;https://assets.adidas.com/imag…</td><td>&quot;USA&quot;</td><td>&quot;en&quot;</td><td>4.7</td><td>11750</td><td>&quot;2021-10-23 17:51:05&quot;</td></tr><tr><td>&quot;https://www.adidas.com/us/hulk…</td><td>&quot;HULK STAN SMITH SHOES&quot;</td><td>&quot;FZ2708&quot;</td><td>70</td><td>&quot;$100&quot;</td><td>&quot;USD&quot;</td><td>&quot;InStock&quot;</td><td>&quot;Black&quot;</td><td>&quot;Shoes&quot;</td><td>&quot;adidas United States&quot;</td><td>&quot;https://www.adidas.com&quot;</td><td>&quot;Originals/Shoes&quot;</td><td>&quot;Superheroes come in all sizes,…</td><td>&quot;adidas&quot;</td><td>&quot;https://assets.adidas.com/imag…</td><td>&quot;USA&quot;</td><td>&quot;en&quot;</td><td>4.7</td><td>11750</td><td>&quot;2021-10-23 17:51:09&quot;</td></tr><tr><td>&quot;https://www.adidas.com/us/supe…</td><td>&quot;Superstar Shoes&quot;</td><td>&quot;FX6042&quot;</td><td>72</td><td>&quot;$90&quot;</td><td>&quot;USD&quot;</td><td>&quot;InStock&quot;</td><td>&quot;White&quot;</td><td>&quot;Shoes&quot;</td><td>&quot;adidas United States&quot;</td><td>&quot;https://www.adidas.com&quot;</td><td>&quot;Women/Shoes&quot;</td><td>&quot;How to catch attention? A sure…</td><td>&quot;adidas&quot;</td><td>&quot;https://assets.adidas.com/imag…</td><td>&quot;USA&quot;</td><td>&quot;en&quot;</td><td>4.7</td><td>9636</td><td>&quot;2021-10-23 17:51:16&quot;</td></tr></tbody></table></div>"
      ],
      "text/plain": [
       "shape: (5, 20)\n",
       "┌─────────────────────────┬──────────────────┬────────┬───────────────┬───┬──────────┬────────────────┬───────────────┬────────────┐\n",
       "│ url                     ┆ name             ┆ sku    ┆ selling_price ┆ … ┆ language ┆ average_rating ┆ reviews_count ┆ crawled_at │\n",
       "│ ---                     ┆ ---              ┆ ---    ┆ ---           ┆   ┆ ---      ┆ ---            ┆ ---           ┆ ---        │\n",
       "│ str                     ┆ str              ┆ str    ┆ i64           ┆   ┆ str      ┆ f64            ┆ i64           ┆ str        │\n",
       "╞═════════════════════════╪══════════════════╪════════╪═══════════════╪═══╪══════════╪════════════════╪═══════════════╪════════════╡\n",
       "│ https://www.adidas.com/ ┆ Stan Smith Shoes ┆ GZ7767 ┆ 72            ┆ … ┆ en       ┆ 4.7            ┆ 11750         ┆ 2021-10-23 │\n",
       "│ us/stan…                ┆                  ┆        ┆               ┆   ┆          ┆                ┆               ┆ 17:51:05   │\n",
       "│ https://www.adidas.com/ ┆ Stan Smith Shoes ┆ GY5460 ┆ 72            ┆ … ┆ en       ┆ 4.7            ┆ 11750         ┆ 2021-10-23 │\n",
       "│ us/stan…                ┆                  ┆        ┆               ┆   ┆          ┆                ┆               ┆ 17:51:05   │\n",
       "│ https://www.adidas.com/ ┆ Stan Smith Shoes ┆ GV7665 ┆ 80            ┆ … ┆ en       ┆ 4.7            ┆ 11750         ┆ 2021-10-23 │\n",
       "│ us/stan…                ┆                  ┆        ┆               ┆   ┆          ┆                ┆               ┆ 17:51:05   │\n",
       "│ https://www.adidas.com/ ┆ HULK STAN SMITH  ┆ FZ2708 ┆ 70            ┆ … ┆ en       ┆ 4.7            ┆ 11750         ┆ 2021-10-23 │\n",
       "│ us/hulk…                ┆ SHOES            ┆        ┆               ┆   ┆          ┆                ┆               ┆ 17:51:09   │\n",
       "│ https://www.adidas.com/ ┆ Superstar Shoes  ┆ FX6042 ┆ 72            ┆ … ┆ en       ┆ 4.7            ┆ 9636          ┆ 2021-10-23 │\n",
       "│ us/supe…                ┆                  ┆        ┆               ┆   ┆          ┆                ┆               ┆ 17:51:16   │\n",
       "└─────────────────────────┴──────────────────┴────────┴───────────────┴───┴──────────┴────────────────┴───────────────┴────────────┘"
      ]
     },
     "execution_count": 24,
     "metadata": {},
     "output_type": "execute_result"
    }
   ],
   "source": [
    "df.sort(\"reviews_count\", descending=True).head()"
   ]
  },
  {
   "cell_type": "markdown",
   "id": "c56ea890-7719-4465-a193-ced712255c6a",
   "metadata": {},
   "source": [
    "## Sorting with .top_k() method"
   ]
  },
  {
   "cell_type": "code",
   "execution_count": 26,
   "id": "ba4a11be-1d92-4305-9844-cb283a784d90",
   "metadata": {},
   "outputs": [
    {
     "data": {
      "text/html": [
       "<div><style>\n",
       ".dataframe > thead > tr,\n",
       ".dataframe > tbody > tr {\n",
       "  text-align: right;\n",
       "  white-space: pre-wrap;\n",
       "}\n",
       "</style>\n",
       "<small>shape: (3, 20)</small><table border=\"1\" class=\"dataframe\"><thead><tr><th>url</th><th>name</th><th>sku</th><th>selling_price</th><th>original_price</th><th>currency</th><th>availability</th><th>color</th><th>category</th><th>source</th><th>source_website</th><th>breadcrumbs</th><th>description</th><th>brand</th><th>images</th><th>country</th><th>language</th><th>average_rating</th><th>reviews_count</th><th>crawled_at</th></tr><tr><td>str</td><td>str</td><td>str</td><td>i64</td><td>str</td><td>str</td><td>str</td><td>str</td><td>str</td><td>str</td><td>str</td><td>str</td><td>str</td><td>str</td><td>str</td><td>str</td><td>str</td><td>f64</td><td>i64</td><td>str</td></tr></thead><tbody><tr><td>&quot;https://www.adidas.com/us/stan…</td><td>&quot;Stan Smith Shoes&quot;</td><td>&quot;GZ7767&quot;</td><td>72</td><td>&quot;$90&quot;</td><td>&quot;USD&quot;</td><td>&quot;InStock&quot;</td><td>&quot;White&quot;</td><td>&quot;Shoes&quot;</td><td>&quot;adidas United States&quot;</td><td>&quot;https://www.adidas.com&quot;</td><td>&quot;Men/Shoes&quot;</td><td>&quot;Since the &#x27;70s, millions of fe…</td><td>&quot;adidas&quot;</td><td>&quot;https://assets.adidas.com/imag…</td><td>&quot;USA&quot;</td><td>&quot;en&quot;</td><td>4.7</td><td>11750</td><td>&quot;2021-10-23 17:51:05&quot;</td></tr><tr><td>&quot;https://www.adidas.com/us/stan…</td><td>&quot;Stan Smith Shoes&quot;</td><td>&quot;GY5460&quot;</td><td>72</td><td>&quot;$90&quot;</td><td>&quot;USD&quot;</td><td>&quot;InStock&quot;</td><td>&quot;White&quot;</td><td>&quot;Shoes&quot;</td><td>&quot;adidas United States&quot;</td><td>&quot;https://www.adidas.com&quot;</td><td>&quot;Men/Shoes&quot;</td><td>&quot;Ever since they appeared on th…</td><td>&quot;adidas&quot;</td><td>&quot;https://assets.adidas.com/imag…</td><td>&quot;USA&quot;</td><td>&quot;en&quot;</td><td>4.7</td><td>11750</td><td>&quot;2021-10-23 17:51:05&quot;</td></tr><tr><td>&quot;https://www.adidas.com/us/stan…</td><td>&quot;Stan Smith Shoes&quot;</td><td>&quot;GV7665&quot;</td><td>80</td><td>&quot;$100&quot;</td><td>&quot;USD&quot;</td><td>&quot;InStock&quot;</td><td>&quot;White&quot;</td><td>&quot;Shoes&quot;</td><td>&quot;adidas United States&quot;</td><td>&quot;https://www.adidas.com&quot;</td><td>&quot;Originals/Shoes&quot;</td><td>&quot;When it comes to the adidas St…</td><td>&quot;adidas&quot;</td><td>&quot;https://assets.adidas.com/imag…</td><td>&quot;USA&quot;</td><td>&quot;en&quot;</td><td>4.7</td><td>11750</td><td>&quot;2021-10-23 17:51:05&quot;</td></tr></tbody></table></div>"
      ],
      "text/plain": [
       "shape: (3, 20)\n",
       "┌─────────────────────────┬──────────────────┬────────┬───────────────┬───┬──────────┬────────────────┬───────────────┬────────────┐\n",
       "│ url                     ┆ name             ┆ sku    ┆ selling_price ┆ … ┆ language ┆ average_rating ┆ reviews_count ┆ crawled_at │\n",
       "│ ---                     ┆ ---              ┆ ---    ┆ ---           ┆   ┆ ---      ┆ ---            ┆ ---           ┆ ---        │\n",
       "│ str                     ┆ str              ┆ str    ┆ i64           ┆   ┆ str      ┆ f64            ┆ i64           ┆ str        │\n",
       "╞═════════════════════════╪══════════════════╪════════╪═══════════════╪═══╪══════════╪════════════════╪═══════════════╪════════════╡\n",
       "│ https://www.adidas.com/ ┆ Stan Smith Shoes ┆ GZ7767 ┆ 72            ┆ … ┆ en       ┆ 4.7            ┆ 11750         ┆ 2021-10-23 │\n",
       "│ us/stan…                ┆                  ┆        ┆               ┆   ┆          ┆                ┆               ┆ 17:51:05   │\n",
       "│ https://www.adidas.com/ ┆ Stan Smith Shoes ┆ GY5460 ┆ 72            ┆ … ┆ en       ┆ 4.7            ┆ 11750         ┆ 2021-10-23 │\n",
       "│ us/stan…                ┆                  ┆        ┆               ┆   ┆          ┆                ┆               ┆ 17:51:05   │\n",
       "│ https://www.adidas.com/ ┆ Stan Smith Shoes ┆ GV7665 ┆ 80            ┆ … ┆ en       ┆ 4.7            ┆ 11750         ┆ 2021-10-23 │\n",
       "│ us/stan…                ┆                  ┆        ┆               ┆   ┆          ┆                ┆               ┆ 17:51:05   │\n",
       "└─────────────────────────┴──────────────────┴────────┴───────────────┴───┴──────────┴────────────────┴───────────────┴────────────┘"
      ]
     },
     "execution_count": 26,
     "metadata": {},
     "output_type": "execute_result"
    }
   ],
   "source": [
    "df.top_k(by=\"reviews_count\", k=3) "
   ]
  },
  {
   "cell_type": "code",
   "execution_count": 29,
   "id": "ccef6be3-775a-47fa-a13a-f5efa7a57e46",
   "metadata": {},
   "outputs": [
    {
     "data": {
      "text/html": [
       "<div><style>\n",
       ".dataframe > thead > tr,\n",
       ".dataframe > tbody > tr {\n",
       "  text-align: right;\n",
       "  white-space: pre-wrap;\n",
       "}\n",
       "</style>\n",
       "<small>shape: (3, 20)</small><table border=\"1\" class=\"dataframe\"><thead><tr><th>url</th><th>name</th><th>sku</th><th>selling_price</th><th>original_price</th><th>currency</th><th>availability</th><th>color</th><th>category</th><th>source</th><th>source_website</th><th>breadcrumbs</th><th>description</th><th>brand</th><th>images</th><th>country</th><th>language</th><th>average_rating</th><th>reviews_count</th><th>crawled_at</th></tr><tr><td>str</td><td>str</td><td>str</td><td>i64</td><td>str</td><td>str</td><td>str</td><td>str</td><td>str</td><td>str</td><td>str</td><td>str</td><td>str</td><td>str</td><td>str</td><td>str</td><td>str</td><td>f64</td><td>i64</td><td>str</td></tr></thead><tbody><tr><td>&quot;https://www.adidas.com/us/grap…</td><td>&quot;Graphic Tee and Shorts Set&quot;</td><td>&quot;EX3625&quot;</td><td>26</td><td>&quot;$32&quot;</td><td>&quot;USD&quot;</td><td>&quot;InStock&quot;</td><td>&quot;Red&quot;</td><td>&quot;Clothing&quot;</td><td>&quot;adidas United States&quot;</td><td>&quot;https://www.adidas.com&quot;</td><td>&quot;Kids/Clothing&quot;</td><td>&quot;With all that attitude, your l…</td><td>&quot;adidas&quot;</td><td>&quot;https://assets.adidas.com/imag…</td><td>&quot;USA&quot;</td><td>&quot;en&quot;</td><td>5.0</td><td>1</td><td>&quot;2021-10-23 17:51:47&quot;</td></tr><tr><td>&quot;https://www.adidas.com/us/zx-1…</td><td>&quot;ZX 1K Boost Shoes&quot;</td><td>&quot;H00430&quot;</td><td>77</td><td>&quot;$110&quot;</td><td>&quot;USD&quot;</td><td>&quot;InStock&quot;</td><td>&quot;Grey&quot;</td><td>&quot;Shoes&quot;</td><td>&quot;adidas United States&quot;</td><td>&quot;https://www.adidas.com&quot;</td><td>&quot;Men/Shoes&quot;</td><td>&quot;The ZX line pioneered a new ap…</td><td>&quot;adidas&quot;</td><td>&quot;https://assets.adidas.com/imag…</td><td>&quot;USA&quot;</td><td>&quot;en&quot;</td><td>5.0</td><td>1</td><td>&quot;2021-10-23 17:50:28&quot;</td></tr><tr><td>&quot;https://www.adidas.com/us/zx-1…</td><td>&quot;ZX 1K Boost Shoes&quot;</td><td>&quot;H00428&quot;</td><td>77</td><td>&quot;$110&quot;</td><td>&quot;USD&quot;</td><td>&quot;InStock&quot;</td><td>&quot;Black&quot;</td><td>&quot;Shoes&quot;</td><td>&quot;adidas United States&quot;</td><td>&quot;https://www.adidas.com&quot;</td><td>&quot;Men/Shoes&quot;</td><td>&quot;The ZX line pioneered a new ap…</td><td>&quot;adidas&quot;</td><td>&quot;https://assets.adidas.com/imag…</td><td>&quot;USA&quot;</td><td>&quot;en&quot;</td><td>5.0</td><td>1</td><td>&quot;2021-10-23 17:50:29&quot;</td></tr></tbody></table></div>"
      ],
      "text/plain": [
       "shape: (3, 20)\n",
       "┌──────────────────────┬─────────────────────┬────────┬───────────────┬───┬──────────┬────────────────┬───────────────┬────────────┐\n",
       "│ url                  ┆ name                ┆ sku    ┆ selling_price ┆ … ┆ language ┆ average_rating ┆ reviews_count ┆ crawled_at │\n",
       "│ ---                  ┆ ---                 ┆ ---    ┆ ---           ┆   ┆ ---      ┆ ---            ┆ ---           ┆ ---        │\n",
       "│ str                  ┆ str                 ┆ str    ┆ i64           ┆   ┆ str      ┆ f64            ┆ i64           ┆ str        │\n",
       "╞══════════════════════╪═════════════════════╪════════╪═══════════════╪═══╪══════════╪════════════════╪═══════════════╪════════════╡\n",
       "│ https://www.adidas.c ┆ Graphic Tee and     ┆ EX3625 ┆ 26            ┆ … ┆ en       ┆ 5.0            ┆ 1             ┆ 2021-10-23 │\n",
       "│ om/us/grap…          ┆ Shorts Set          ┆        ┆               ┆   ┆          ┆                ┆               ┆ 17:51:47   │\n",
       "│ https://www.adidas.c ┆ ZX 1K Boost Shoes   ┆ H00430 ┆ 77            ┆ … ┆ en       ┆ 5.0            ┆ 1             ┆ 2021-10-23 │\n",
       "│ om/us/zx-1…          ┆                     ┆        ┆               ┆   ┆          ┆                ┆               ┆ 17:50:28   │\n",
       "│ https://www.adidas.c ┆ ZX 1K Boost Shoes   ┆ H00428 ┆ 77            ┆ … ┆ en       ┆ 5.0            ┆ 1             ┆ 2021-10-23 │\n",
       "│ om/us/zx-1…          ┆                     ┆        ┆               ┆   ┆          ┆                ┆               ┆ 17:50:29   │\n",
       "└──────────────────────┴─────────────────────┴────────┴───────────────┴───┴──────────┴────────────────┴───────────────┴────────────┘"
      ]
     },
     "execution_count": 29,
     "metadata": {},
     "output_type": "execute_result"
    }
   ],
   "source": [
    "df.top_k(by=\"reviews_count\", k=3, reverse=True) # or use .bottom_k()"
   ]
  },
  {
   "cell_type": "markdown",
   "id": "1add37de-71d2-462e-b428-db5e84296f0c",
   "metadata": {},
   "source": [
    "## Describe DataFrame"
   ]
  },
  {
   "cell_type": "code",
   "execution_count": 30,
   "id": "633109df-6533-41d1-9416-2d1c55d30daa",
   "metadata": {},
   "outputs": [
    {
     "data": {
      "text/html": [
       "<div><style>\n",
       ".dataframe > thead > tr,\n",
       ".dataframe > tbody > tr {\n",
       "  text-align: right;\n",
       "  white-space: pre-wrap;\n",
       "}\n",
       "</style>\n",
       "<small>shape: (9, 21)</small><table border=\"1\" class=\"dataframe\"><thead><tr><th>statistic</th><th>url</th><th>name</th><th>sku</th><th>selling_price</th><th>original_price</th><th>currency</th><th>availability</th><th>color</th><th>category</th><th>source</th><th>source_website</th><th>breadcrumbs</th><th>description</th><th>brand</th><th>images</th><th>country</th><th>language</th><th>average_rating</th><th>reviews_count</th><th>crawled_at</th></tr><tr><td>str</td><td>str</td><td>str</td><td>str</td><td>f64</td><td>str</td><td>str</td><td>str</td><td>str</td><td>str</td><td>str</td><td>str</td><td>str</td><td>str</td><td>str</td><td>str</td><td>str</td><td>str</td><td>f64</td><td>f64</td><td>str</td></tr></thead><tbody><tr><td>&quot;count&quot;</td><td>&quot;845&quot;</td><td>&quot;845&quot;</td><td>&quot;845&quot;</td><td>845.0</td><td>&quot;829&quot;</td><td>&quot;845&quot;</td><td>&quot;845&quot;</td><td>&quot;845&quot;</td><td>&quot;845&quot;</td><td>&quot;845&quot;</td><td>&quot;845&quot;</td><td>&quot;845&quot;</td><td>&quot;845&quot;</td><td>&quot;845&quot;</td><td>&quot;845&quot;</td><td>&quot;845&quot;</td><td>&quot;845&quot;</td><td>845.0</td><td>845.0</td><td>&quot;845&quot;</td></tr><tr><td>&quot;null_count&quot;</td><td>&quot;0&quot;</td><td>&quot;0&quot;</td><td>&quot;0&quot;</td><td>0.0</td><td>&quot;16&quot;</td><td>&quot;0&quot;</td><td>&quot;0&quot;</td><td>&quot;0&quot;</td><td>&quot;0&quot;</td><td>&quot;0&quot;</td><td>&quot;0&quot;</td><td>&quot;0&quot;</td><td>&quot;0&quot;</td><td>&quot;0&quot;</td><td>&quot;0&quot;</td><td>&quot;0&quot;</td><td>&quot;0&quot;</td><td>0.0</td><td>0.0</td><td>&quot;0&quot;</td></tr><tr><td>&quot;mean&quot;</td><td>null</td><td>null</td><td>null</td><td>53.192899</td><td>null</td><td>null</td><td>null</td><td>null</td><td>null</td><td>null</td><td>null</td><td>null</td><td>null</td><td>null</td><td>null</td><td>null</td><td>null</td><td>4.608402</td><td>426.178698</td><td>null</td></tr><tr><td>&quot;std&quot;</td><td>null</td><td>null</td><td>null</td><td>31.411645</td><td>null</td><td>null</td><td>null</td><td>null</td><td>null</td><td>null</td><td>null</td><td>null</td><td>null</td><td>null</td><td>null</td><td>null</td><td>null</td><td>0.293795</td><td>1229.158277</td><td>null</td></tr><tr><td>&quot;min&quot;</td><td>&quot;https://www.adidas.com/us/3-st…</td><td>&quot;3-Stripes Crew Socks 3 Pairs&quot;</td><td>&quot;B93219&quot;</td><td>9.0</td><td>&quot;$100&quot;</td><td>&quot;USD&quot;</td><td>&quot;InStock&quot;</td><td>&quot;Beige&quot;</td><td>&quot;Accessories&quot;</td><td>&quot;adidas United States&quot;</td><td>&quot;https://www.adidas.com&quot;</td><td>&quot;Essentials/Clothing&quot;</td><td>&quot;A few miles can be enough to r…</td><td>&quot;adidas&quot;</td><td>&quot;https://assets.adidas.com/imag…</td><td>&quot;USA&quot;</td><td>&quot;en&quot;</td><td>1.0</td><td>1.0</td><td>&quot;2021-10-23 17:50:17&quot;</td></tr><tr><td>&quot;25%&quot;</td><td>null</td><td>null</td><td>null</td><td>28.0</td><td>null</td><td>null</td><td>null</td><td>null</td><td>null</td><td>null</td><td>null</td><td>null</td><td>null</td><td>null</td><td>null</td><td>null</td><td>null</td><td>4.5</td><td>19.0</td><td>null</td></tr><tr><td>&quot;50%&quot;</td><td>null</td><td>null</td><td>null</td><td>48.0</td><td>null</td><td>null</td><td>null</td><td>null</td><td>null</td><td>null</td><td>null</td><td>null</td><td>null</td><td>null</td><td>null</td><td>null</td><td>null</td><td>4.7</td><td>68.0</td><td>null</td></tr><tr><td>&quot;75%&quot;</td><td>null</td><td>null</td><td>null</td><td>70.0</td><td>null</td><td>null</td><td>null</td><td>null</td><td>null</td><td>null</td><td>null</td><td>null</td><td>null</td><td>null</td><td>null</td><td>null</td><td>null</td><td>4.8</td><td>314.0</td><td>null</td></tr><tr><td>&quot;max&quot;</td><td>&quot;https://www.adidas.com/us/zx-8…</td><td>&quot;adidas x Zoe Saldana Long Slee…</td><td>&quot;S97358&quot;</td><td>240.0</td><td>&quot;$90&quot;</td><td>&quot;USD&quot;</td><td>&quot;OutOfStock&quot;</td><td>&quot;Yellow&quot;</td><td>&quot;Shoes&quot;</td><td>&quot;adidas United States&quot;</td><td>&quot;https://www.adidas.com&quot;</td><td>&quot;Women/Shoes&quot;</td><td>&quot;ZXience expands the ZX univers…</td><td>&quot;adidas&quot;</td><td>&quot;https://assets.adidas.com/imag…</td><td>&quot;USA&quot;</td><td>&quot;en&quot;</td><td>5.0</td><td>11750.0</td><td>&quot;2021-10-23 17:52:32&quot;</td></tr></tbody></table></div>"
      ],
      "text/plain": [
       "shape: (9, 21)\n",
       "┌────────────┬─────────────────────┬────────────────┬────────┬───┬──────────┬────────────────┬───────────────┬─────────────────────┐\n",
       "│ statistic  ┆ url                 ┆ name           ┆ sku    ┆ … ┆ language ┆ average_rating ┆ reviews_count ┆ crawled_at          │\n",
       "│ ---        ┆ ---                 ┆ ---            ┆ ---    ┆   ┆ ---      ┆ ---            ┆ ---           ┆ ---                 │\n",
       "│ str        ┆ str                 ┆ str            ┆ str    ┆   ┆ str      ┆ f64            ┆ f64           ┆ str                 │\n",
       "╞════════════╪═════════════════════╪════════════════╪════════╪═══╪══════════╪════════════════╪═══════════════╪═════════════════════╡\n",
       "│ count      ┆ 845                 ┆ 845            ┆ 845    ┆ … ┆ 845      ┆ 845.0          ┆ 845.0         ┆ 845                 │\n",
       "│ null_count ┆ 0                   ┆ 0              ┆ 0      ┆ … ┆ 0        ┆ 0.0            ┆ 0.0           ┆ 0                   │\n",
       "│ mean       ┆ null                ┆ null           ┆ null   ┆ … ┆ null     ┆ 4.608402       ┆ 426.178698    ┆ null                │\n",
       "│ std        ┆ null                ┆ null           ┆ null   ┆ … ┆ null     ┆ 0.293795       ┆ 1229.158277   ┆ null                │\n",
       "│ min        ┆ https://www.adidas. ┆ 3-Stripes Crew ┆ B93219 ┆ … ┆ en       ┆ 1.0            ┆ 1.0           ┆ 2021-10-23 17:50:17 │\n",
       "│            ┆ com/us/3-st…        ┆ Socks 3 Pairs  ┆        ┆   ┆          ┆                ┆               ┆                     │\n",
       "│ 25%        ┆ null                ┆ null           ┆ null   ┆ … ┆ null     ┆ 4.5            ┆ 19.0          ┆ null                │\n",
       "│ 50%        ┆ null                ┆ null           ┆ null   ┆ … ┆ null     ┆ 4.7            ┆ 68.0          ┆ null                │\n",
       "│ 75%        ┆ null                ┆ null           ┆ null   ┆ … ┆ null     ┆ 4.8            ┆ 314.0         ┆ null                │\n",
       "│ max        ┆ https://www.adidas. ┆ adidas x Zoe   ┆ S97358 ┆ … ┆ en       ┆ 5.0            ┆ 11750.0       ┆ 2021-10-23 17:52:32 │\n",
       "│            ┆ com/us/zx-8…        ┆ Saldana Long   ┆        ┆   ┆          ┆                ┆               ┆                     │\n",
       "│            ┆                     ┆ Slee…          ┆        ┆   ┆          ┆                ┆               ┆                     │\n",
       "└────────────┴─────────────────────┴────────────────┴────────┴───┴──────────┴────────────────┴───────────────┴─────────────────────┘"
      ]
     },
     "execution_count": 30,
     "metadata": {},
     "output_type": "execute_result"
    }
   ],
   "source": [
    "df.describe()"
   ]
  },
  {
   "cell_type": "markdown",
   "id": "2adcc0d2-6104-4671-85f7-dcce7bb9d3f0",
   "metadata": {},
   "source": [
    "## Transforming columns"
   ]
  },
  {
   "cell_type": "markdown",
   "id": "2ed1b92c-e7da-49da-9537-3fdedbf829af",
   "metadata": {},
   "source": [
    "### Create Expression"
   ]
  },
  {
   "cell_type": "code",
   "execution_count": 35,
   "id": "26e3333b-0a24-4331-9b7a-6ed98fb8c29e",
   "metadata": {},
   "outputs": [
    {
     "data": {
      "text/html": [
       "<div><style>\n",
       ".dataframe > thead > tr,\n",
       ".dataframe > tbody > tr {\n",
       "  text-align: right;\n",
       "  white-space: pre-wrap;\n",
       "}\n",
       "</style>\n",
       "<small>shape: (845, 2)</small><table border=\"1\" class=\"dataframe\"><thead><tr><th>brand</th><th>selling_price</th></tr><tr><td>str</td><td>i64</td></tr></thead><tbody><tr><td>&quot;adidas&quot;</td><td>40</td></tr><tr><td>&quot;adidas&quot;</td><td>150</td></tr><tr><td>&quot;adidas&quot;</td><td>70</td></tr><tr><td>&quot;adidas&quot;</td><td>160</td></tr><tr><td>&quot;adidas&quot;</td><td>65</td></tr><tr><td>&hellip;</td><td>&hellip;</td></tr><tr><td>&quot;adidas&quot;</td><td>72</td></tr><tr><td>&quot;adidas&quot;</td><td>70</td></tr><tr><td>&quot;adidas&quot;</td><td>35</td></tr><tr><td>&quot;adidas&quot;</td><td>40</td></tr><tr><td>&quot;adidas&quot;</td><td>70</td></tr></tbody></table></div>"
      ],
      "text/plain": [
       "shape: (845, 2)\n",
       "┌────────┬───────────────┐\n",
       "│ brand  ┆ selling_price │\n",
       "│ ---    ┆ ---           │\n",
       "│ str    ┆ i64           │\n",
       "╞════════╪═══════════════╡\n",
       "│ adidas ┆ 40            │\n",
       "│ adidas ┆ 150           │\n",
       "│ adidas ┆ 70            │\n",
       "│ adidas ┆ 160           │\n",
       "│ adidas ┆ 65            │\n",
       "│ …      ┆ …             │\n",
       "│ adidas ┆ 72            │\n",
       "│ adidas ┆ 70            │\n",
       "│ adidas ┆ 35            │\n",
       "│ adidas ┆ 40            │\n",
       "│ adidas ┆ 70            │\n",
       "└────────┴───────────────┘"
      ]
     },
     "execution_count": 35,
     "metadata": {},
     "output_type": "execute_result"
    }
   ],
   "source": [
    "df.select(\"brand\", pl.col(\"selling_price\"))"
   ]
  },
  {
   "cell_type": "markdown",
   "id": "b9ecc06b-6952-4e7b-9ef5-a4c918bb08a7",
   "metadata": {},
   "source": [
    "### Aritmetic Operation"
   ]
  },
  {
   "cell_type": "code",
   "execution_count": 36,
   "id": "18ba10e1-1861-486a-b4c3-e07ee10eac29",
   "metadata": {},
   "outputs": [
    {
     "data": {
      "text/html": [
       "<div><style>\n",
       ".dataframe > thead > tr,\n",
       ".dataframe > tbody > tr {\n",
       "  text-align: right;\n",
       "  white-space: pre-wrap;\n",
       "}\n",
       "</style>\n",
       "<small>shape: (845, 2)</small><table border=\"1\" class=\"dataframe\"><thead><tr><th>brand</th><th>selling_price</th></tr><tr><td>str</td><td>f64</td></tr></thead><tbody><tr><td>&quot;adidas&quot;</td><td>32.0</td></tr><tr><td>&quot;adidas&quot;</td><td>120.0</td></tr><tr><td>&quot;adidas&quot;</td><td>56.0</td></tr><tr><td>&quot;adidas&quot;</td><td>128.0</td></tr><tr><td>&quot;adidas&quot;</td><td>52.0</td></tr><tr><td>&hellip;</td><td>&hellip;</td></tr><tr><td>&quot;adidas&quot;</td><td>57.6</td></tr><tr><td>&quot;adidas&quot;</td><td>56.0</td></tr><tr><td>&quot;adidas&quot;</td><td>28.0</td></tr><tr><td>&quot;adidas&quot;</td><td>32.0</td></tr><tr><td>&quot;adidas&quot;</td><td>56.0</td></tr></tbody></table></div>"
      ],
      "text/plain": [
       "shape: (845, 2)\n",
       "┌────────┬───────────────┐\n",
       "│ brand  ┆ selling_price │\n",
       "│ ---    ┆ ---           │\n",
       "│ str    ┆ f64           │\n",
       "╞════════╪═══════════════╡\n",
       "│ adidas ┆ 32.0          │\n",
       "│ adidas ┆ 120.0         │\n",
       "│ adidas ┆ 56.0          │\n",
       "│ adidas ┆ 128.0         │\n",
       "│ adidas ┆ 52.0          │\n",
       "│ …      ┆ …             │\n",
       "│ adidas ┆ 57.6          │\n",
       "│ adidas ┆ 56.0          │\n",
       "│ adidas ┆ 28.0          │\n",
       "│ adidas ┆ 32.0          │\n",
       "│ adidas ┆ 56.0          │\n",
       "└────────┴───────────────┘"
      ]
     },
     "execution_count": 36,
     "metadata": {},
     "output_type": "execute_result"
    }
   ],
   "source": [
    "df.select(\"brand\", pl.col(\"selling_price\") * 0.8)"
   ]
  },
  {
   "cell_type": "markdown",
   "id": "f041288a-383d-4a0e-a5e5-191a8a0839a4",
   "metadata": {},
   "source": [
    "### Chaining transformations"
   ]
  },
  {
   "cell_type": "code",
   "execution_count": 42,
   "id": "3f1a1f02-e749-4aaa-92e0-e659d7ff5eb0",
   "metadata": {},
   "outputs": [
    {
     "data": {
      "text/html": [
       "<div><style>\n",
       ".dataframe > thead > tr,\n",
       ".dataframe > tbody > tr {\n",
       "  text-align: right;\n",
       "  white-space: pre-wrap;\n",
       "}\n",
       "</style>\n",
       "<small>shape: (845, 2)</small><table border=\"1\" class=\"dataframe\"><thead><tr><th>brand</th><th>selling_price</th></tr><tr><td>str</td><td>f64</td></tr></thead><tbody><tr><td>&quot;adidas&quot;</td><td>32.0</td></tr><tr><td>&quot;adidas&quot;</td><td>120.0</td></tr><tr><td>&quot;adidas&quot;</td><td>56.0</td></tr><tr><td>&quot;adidas&quot;</td><td>128.0</td></tr><tr><td>&quot;adidas&quot;</td><td>52.0</td></tr><tr><td>&hellip;</td><td>&hellip;</td></tr><tr><td>&quot;adidas&quot;</td><td>58.0</td></tr><tr><td>&quot;adidas&quot;</td><td>56.0</td></tr><tr><td>&quot;adidas&quot;</td><td>28.0</td></tr><tr><td>&quot;adidas&quot;</td><td>32.0</td></tr><tr><td>&quot;adidas&quot;</td><td>56.0</td></tr></tbody></table></div>"
      ],
      "text/plain": [
       "shape: (845, 2)\n",
       "┌────────┬───────────────┐\n",
       "│ brand  ┆ selling_price │\n",
       "│ ---    ┆ ---           │\n",
       "│ str    ┆ f64           │\n",
       "╞════════╪═══════════════╡\n",
       "│ adidas ┆ 32.0          │\n",
       "│ adidas ┆ 120.0         │\n",
       "│ adidas ┆ 56.0          │\n",
       "│ adidas ┆ 128.0         │\n",
       "│ adidas ┆ 52.0          │\n",
       "│ …      ┆ …             │\n",
       "│ adidas ┆ 58.0          │\n",
       "│ adidas ┆ 56.0          │\n",
       "│ adidas ┆ 28.0          │\n",
       "│ adidas ┆ 32.0          │\n",
       "│ adidas ┆ 56.0          │\n",
       "└────────┴───────────────┘"
      ]
     },
     "execution_count": 42,
     "metadata": {},
     "output_type": "execute_result"
    }
   ],
   "source": [
    "df.select(\n",
    "    \"brand\"\n",
    "    ,(pl.col(\"selling_price\") * 0.8).round(0)\n",
    ")"
   ]
  },
  {
   "cell_type": "markdown",
   "id": "a7d0f5f3-22e0-4d6c-a22a-41911771bbae",
   "metadata": {},
   "source": [
    "### Renaming transformations"
   ]
  },
  {
   "cell_type": "code",
   "execution_count": 44,
   "id": "a7e1188e-2037-4027-8de8-9be0feb3d7db",
   "metadata": {},
   "outputs": [
    {
     "data": {
      "text/html": [
       "<div><style>\n",
       ".dataframe > thead > tr,\n",
       ".dataframe > tbody > tr {\n",
       "  text-align: right;\n",
       "  white-space: pre-wrap;\n",
       "}\n",
       "</style>\n",
       "<small>shape: (845, 3)</small><table border=\"1\" class=\"dataframe\"><thead><tr><th>brand</th><th>selling_price</th><th>new_selling_price</th></tr><tr><td>str</td><td>i64</td><td>f64</td></tr></thead><tbody><tr><td>&quot;adidas&quot;</td><td>40</td><td>32.0</td></tr><tr><td>&quot;adidas&quot;</td><td>150</td><td>120.0</td></tr><tr><td>&quot;adidas&quot;</td><td>70</td><td>56.0</td></tr><tr><td>&quot;adidas&quot;</td><td>160</td><td>128.0</td></tr><tr><td>&quot;adidas&quot;</td><td>65</td><td>52.0</td></tr><tr><td>&hellip;</td><td>&hellip;</td><td>&hellip;</td></tr><tr><td>&quot;adidas&quot;</td><td>72</td><td>58.0</td></tr><tr><td>&quot;adidas&quot;</td><td>70</td><td>56.0</td></tr><tr><td>&quot;adidas&quot;</td><td>35</td><td>28.0</td></tr><tr><td>&quot;adidas&quot;</td><td>40</td><td>32.0</td></tr><tr><td>&quot;adidas&quot;</td><td>70</td><td>56.0</td></tr></tbody></table></div>"
      ],
      "text/plain": [
       "shape: (845, 3)\n",
       "┌────────┬───────────────┬───────────────────┐\n",
       "│ brand  ┆ selling_price ┆ new_selling_price │\n",
       "│ ---    ┆ ---           ┆ ---               │\n",
       "│ str    ┆ i64           ┆ f64               │\n",
       "╞════════╪═══════════════╪═══════════════════╡\n",
       "│ adidas ┆ 40            ┆ 32.0              │\n",
       "│ adidas ┆ 150           ┆ 120.0             │\n",
       "│ adidas ┆ 70            ┆ 56.0              │\n",
       "│ adidas ┆ 160           ┆ 128.0             │\n",
       "│ adidas ┆ 65            ┆ 52.0              │\n",
       "│ …      ┆ …             ┆ …                 │\n",
       "│ adidas ┆ 72            ┆ 58.0              │\n",
       "│ adidas ┆ 70            ┆ 56.0              │\n",
       "│ adidas ┆ 35            ┆ 28.0              │\n",
       "│ adidas ┆ 40            ┆ 32.0              │\n",
       "│ adidas ┆ 70            ┆ 56.0              │\n",
       "└────────┴───────────────┴───────────────────┘"
      ]
     },
     "execution_count": 44,
     "metadata": {},
     "output_type": "execute_result"
    }
   ],
   "source": [
    "df.select(\n",
    "    \"brand\"\n",
    "    ,\"selling_price\"\n",
    "    ,(pl.col(\"selling_price\") * pl.lit(0.8)).round(0).alias(\"new_selling_price\")\n",
    ")"
   ]
  },
  {
   "cell_type": "markdown",
   "id": "f649c45f-4591-4b01-9e25-e6400d0511c7",
   "metadata": {},
   "source": [
    "## Adding Columns"
   ]
  },
  {
   "cell_type": "code",
   "execution_count": 46,
   "id": "35d3df11-e3cf-4d99-947a-6fe5aaa4eb65",
   "metadata": {},
   "outputs": [
    {
     "data": {
      "text/html": [
       "<div><style>\n",
       ".dataframe > thead > tr,\n",
       ".dataframe > tbody > tr {\n",
       "  text-align: right;\n",
       "  white-space: pre-wrap;\n",
       "}\n",
       "</style>\n",
       "<small>shape: (845, 21)</small><table border=\"1\" class=\"dataframe\"><thead><tr><th>url</th><th>name</th><th>sku</th><th>selling_price</th><th>original_price</th><th>currency</th><th>availability</th><th>color</th><th>category</th><th>source</th><th>source_website</th><th>breadcrumbs</th><th>description</th><th>brand</th><th>images</th><th>country</th><th>language</th><th>average_rating</th><th>reviews_count</th><th>crawled_at</th><th>new_avg_rating</th></tr><tr><td>str</td><td>str</td><td>str</td><td>i64</td><td>str</td><td>str</td><td>str</td><td>str</td><td>str</td><td>str</td><td>str</td><td>str</td><td>str</td><td>str</td><td>str</td><td>str</td><td>str</td><td>f64</td><td>i64</td><td>str</td><td>f64</td></tr></thead><tbody><tr><td>&quot;https://www.adidas.com/us/beac…</td><td>&quot;Beach Shorts&quot;</td><td>&quot;FJ5089&quot;</td><td>40</td><td>null</td><td>&quot;USD&quot;</td><td>&quot;InStock&quot;</td><td>&quot;Black&quot;</td><td>&quot;Clothing&quot;</td><td>&quot;adidas United States&quot;</td><td>&quot;https://www.adidas.com&quot;</td><td>&quot;Women/Clothing&quot;</td><td>&quot;Splashing in the surf. Making …</td><td>&quot;adidas&quot;</td><td>&quot;https://assets.adidas.com/imag…</td><td>&quot;USA&quot;</td><td>&quot;en&quot;</td><td>4.5</td><td>35</td><td>&quot;2021-10-23 17:50:17&quot;</td><td>5.5</td></tr><tr><td>&quot;https://www.adidas.com/us/five…</td><td>&quot;Five Ten Kestrel Lace Mountain…</td><td>&quot;BC0770&quot;</td><td>150</td><td>null</td><td>&quot;USD&quot;</td><td>&quot;InStock&quot;</td><td>&quot;Grey&quot;</td><td>&quot;Shoes&quot;</td><td>&quot;adidas United States&quot;</td><td>&quot;https://www.adidas.com&quot;</td><td>&quot;Women/Shoes&quot;</td><td>&quot;Lace up and get after it. The …</td><td>&quot;adidas&quot;</td><td>&quot;https://assets.adidas.com/imag…</td><td>&quot;USA&quot;</td><td>&quot;en&quot;</td><td>4.8</td><td>4</td><td>&quot;2021-10-23 17:50:17&quot;</td><td>5.8</td></tr><tr><td>&quot;https://www.adidas.com/us/mexi…</td><td>&quot;Mexico Away Jersey&quot;</td><td>&quot;GC7946&quot;</td><td>70</td><td>null</td><td>&quot;USD&quot;</td><td>&quot;InStock&quot;</td><td>&quot;White&quot;</td><td>&quot;Clothing&quot;</td><td>&quot;adidas United States&quot;</td><td>&quot;https://www.adidas.com&quot;</td><td>&quot;Kids/Clothing&quot;</td><td>&quot;Clean and crisp, this adidas M…</td><td>&quot;adidas&quot;</td><td>&quot;https://assets.adidas.com/imag…</td><td>&quot;USA&quot;</td><td>&quot;en&quot;</td><td>4.9</td><td>42</td><td>&quot;2021-10-23 17:50:18&quot;</td><td>5.9</td></tr><tr><td>&quot;https://www.adidas.com/us/five…</td><td>&quot;Five Ten Hiangle Pro Competiti…</td><td>&quot;FV4744&quot;</td><td>160</td><td>null</td><td>&quot;USD&quot;</td><td>&quot;InStock&quot;</td><td>&quot;Black&quot;</td><td>&quot;Shoes&quot;</td><td>&quot;adidas United States&quot;</td><td>&quot;https://www.adidas.com&quot;</td><td>&quot;Five Ten/Shoes&quot;</td><td>&quot;The Hiangle Pro takes on the c…</td><td>&quot;adidas&quot;</td><td>&quot;https://assets.adidas.com/imag…</td><td>&quot;USA&quot;</td><td>&quot;en&quot;</td><td>3.7</td><td>7</td><td>&quot;2021-10-23 17:50:18&quot;</td><td>4.7</td></tr><tr><td>&quot;https://www.adidas.com/us/mesh…</td><td>&quot;Mesh Broken-Stripe Polo Shirt&quot;</td><td>&quot;GM0239&quot;</td><td>65</td><td>null</td><td>&quot;USD&quot;</td><td>&quot;InStock&quot;</td><td>&quot;Blue&quot;</td><td>&quot;Clothing&quot;</td><td>&quot;adidas United States&quot;</td><td>&quot;https://www.adidas.com&quot;</td><td>&quot;Men/Clothing&quot;</td><td>&quot;Step up to the tee relaxed. Th…</td><td>&quot;adidas&quot;</td><td>&quot;https://assets.adidas.com/imag…</td><td>&quot;USA&quot;</td><td>&quot;en&quot;</td><td>4.7</td><td>11</td><td>&quot;2021-10-23 17:50:18&quot;</td><td>5.7</td></tr><tr><td>&hellip;</td><td>&hellip;</td><td>&hellip;</td><td>&hellip;</td><td>&hellip;</td><td>&hellip;</td><td>&hellip;</td><td>&hellip;</td><td>&hellip;</td><td>&hellip;</td><td>&hellip;</td><td>&hellip;</td><td>&hellip;</td><td>&hellip;</td><td>&hellip;</td><td>&hellip;</td><td>&hellip;</td><td>&hellip;</td><td>&hellip;</td><td>&hellip;</td><td>&hellip;</td></tr><tr><td>&quot;https://www.adidas.com/us/supe…</td><td>&quot;Supernova+ Shoes&quot;</td><td>&quot;FX2858&quot;</td><td>72</td><td>&quot;$120&quot;</td><td>&quot;USD&quot;</td><td>&quot;InStock&quot;</td><td>&quot;White&quot;</td><td>&quot;Shoes&quot;</td><td>&quot;adidas United States&quot;</td><td>&quot;https://www.adidas.com&quot;</td><td>&quot;Women/Shoes&quot;</td><td>&quot;Take off. Touch down. Repeat. …</td><td>&quot;adidas&quot;</td><td>&quot;https://assets.adidas.com/imag…</td><td>&quot;USA&quot;</td><td>&quot;en&quot;</td><td>4.3</td><td>151</td><td>&quot;2021-10-23 17:52:32&quot;</td><td>5.3</td></tr><tr><td>&quot;https://www.adidas.com/us/choi…</td><td>&quot;Choigo Shoes&quot;</td><td>&quot;H00667&quot;</td><td>70</td><td>&quot;$100&quot;</td><td>&quot;USD&quot;</td><td>&quot;InStock&quot;</td><td>&quot;White&quot;</td><td>&quot;Shoes&quot;</td><td>&quot;adidas United States&quot;</td><td>&quot;https://www.adidas.com&quot;</td><td>&quot;Women/Shoes&quot;</td><td>&quot;If you want drama, the bold fe…</td><td>&quot;adidas&quot;</td><td>&quot;https://assets.adidas.com/imag…</td><td>&quot;USA&quot;</td><td>&quot;en&quot;</td><td>4.7</td><td>135</td><td>&quot;2021-10-23 17:52:32&quot;</td><td>5.7</td></tr><tr><td>&quot;https://www.adidas.com/us/dail…</td><td>&quot;Daily 3.0 Shoes&quot;</td><td>&quot;GZ7705&quot;</td><td>35</td><td>&quot;$50&quot;</td><td>&quot;USD&quot;</td><td>&quot;InStock&quot;</td><td>&quot;Black&quot;</td><td>&quot;Shoes&quot;</td><td>&quot;adidas United States&quot;</td><td>&quot;https://www.adidas.com&quot;</td><td>&quot;Kids/Shoes&quot;</td><td>&quot;The style is in the details of…</td><td>&quot;adidas&quot;</td><td>&quot;https://assets.adidas.com/imag…</td><td>&quot;USA&quot;</td><td>&quot;en&quot;</td><td>4.7</td><td>190</td><td>&quot;2021-10-23 17:52:32&quot;</td><td>5.7</td></tr><tr><td>&quot;https://www.adidas.com/us/dail…</td><td>&quot;Daily 3.0 Shoes&quot;</td><td>&quot;GZ7706&quot;</td><td>40</td><td>&quot;$50&quot;</td><td>&quot;USD&quot;</td><td>&quot;InStock&quot;</td><td>&quot;Pink&quot;</td><td>&quot;Shoes&quot;</td><td>&quot;adidas United States&quot;</td><td>&quot;https://www.adidas.com&quot;</td><td>&quot;Kids/Shoes&quot;</td><td>&quot;The style is in the details of…</td><td>&quot;adidas&quot;</td><td>&quot;https://assets.adidas.com/imag…</td><td>&quot;USA&quot;</td><td>&quot;en&quot;</td><td>4.7</td><td>190</td><td>&quot;2021-10-23 17:52:32&quot;</td><td>5.7</td></tr><tr><td>&quot;https://www.adidas.com/us/choi…</td><td>&quot;Choigo Shoes&quot;</td><td>&quot;FY6503&quot;</td><td>70</td><td>&quot;$100&quot;</td><td>&quot;USD&quot;</td><td>&quot;InStock&quot;</td><td>&quot;Black&quot;</td><td>&quot;Shoes&quot;</td><td>&quot;adidas United States&quot;</td><td>&quot;https://www.adidas.com&quot;</td><td>&quot;Women/Shoes&quot;</td><td>&quot;Take your style to bold new he…</td><td>&quot;adidas&quot;</td><td>&quot;https://assets.adidas.com/imag…</td><td>&quot;USA&quot;</td><td>&quot;en&quot;</td><td>4.7</td><td>135</td><td>&quot;2021-10-23 17:52:32&quot;</td><td>5.7</td></tr></tbody></table></div>"
      ],
      "text/plain": [
       "shape: (845, 21)\n",
       "┌───────────────────┬──────────────────┬────────┬───────────────┬───┬────────────────┬───────────────┬────────────┬────────────────┐\n",
       "│ url               ┆ name             ┆ sku    ┆ selling_price ┆ … ┆ average_rating ┆ reviews_count ┆ crawled_at ┆ new_avg_rating │\n",
       "│ ---               ┆ ---              ┆ ---    ┆ ---           ┆   ┆ ---            ┆ ---           ┆ ---        ┆ ---            │\n",
       "│ str               ┆ str              ┆ str    ┆ i64           ┆   ┆ f64            ┆ i64           ┆ str        ┆ f64            │\n",
       "╞═══════════════════╪══════════════════╪════════╪═══════════════╪═══╪════════════════╪═══════════════╪════════════╪════════════════╡\n",
       "│ https://www.adida ┆ Beach Shorts     ┆ FJ5089 ┆ 40            ┆ … ┆ 4.5            ┆ 35            ┆ 2021-10-23 ┆ 5.5            │\n",
       "│ s.com/us/beac…    ┆                  ┆        ┆               ┆   ┆                ┆               ┆ 17:50:17   ┆                │\n",
       "│ https://www.adida ┆ Five Ten Kestrel ┆ BC0770 ┆ 150           ┆ … ┆ 4.8            ┆ 4             ┆ 2021-10-23 ┆ 5.8            │\n",
       "│ s.com/us/five…    ┆ Lace Mountain…   ┆        ┆               ┆   ┆                ┆               ┆ 17:50:17   ┆                │\n",
       "│ https://www.adida ┆ Mexico Away      ┆ GC7946 ┆ 70            ┆ … ┆ 4.9            ┆ 42            ┆ 2021-10-23 ┆ 5.9            │\n",
       "│ s.com/us/mexi…    ┆ Jersey           ┆        ┆               ┆   ┆                ┆               ┆ 17:50:18   ┆                │\n",
       "│ https://www.adida ┆ Five Ten Hiangle ┆ FV4744 ┆ 160           ┆ … ┆ 3.7            ┆ 7             ┆ 2021-10-23 ┆ 4.7            │\n",
       "│ s.com/us/five…    ┆ Pro Competiti…   ┆        ┆               ┆   ┆                ┆               ┆ 17:50:18   ┆                │\n",
       "│ https://www.adida ┆ Mesh             ┆ GM0239 ┆ 65            ┆ … ┆ 4.7            ┆ 11            ┆ 2021-10-23 ┆ 5.7            │\n",
       "│ s.com/us/mesh…    ┆ Broken-Stripe    ┆        ┆               ┆   ┆                ┆               ┆ 17:50:18   ┆                │\n",
       "│                   ┆ Polo Shirt       ┆        ┆               ┆   ┆                ┆               ┆            ┆                │\n",
       "│ …                 ┆ …                ┆ …      ┆ …             ┆ … ┆ …              ┆ …             ┆ …          ┆ …              │\n",
       "│ https://www.adida ┆ Supernova+ Shoes ┆ FX2858 ┆ 72            ┆ … ┆ 4.3            ┆ 151           ┆ 2021-10-23 ┆ 5.3            │\n",
       "│ s.com/us/supe…    ┆                  ┆        ┆               ┆   ┆                ┆               ┆ 17:52:32   ┆                │\n",
       "│ https://www.adida ┆ Choigo Shoes     ┆ H00667 ┆ 70            ┆ … ┆ 4.7            ┆ 135           ┆ 2021-10-23 ┆ 5.7            │\n",
       "│ s.com/us/choi…    ┆                  ┆        ┆               ┆   ┆                ┆               ┆ 17:52:32   ┆                │\n",
       "│ https://www.adida ┆ Daily 3.0 Shoes  ┆ GZ7705 ┆ 35            ┆ … ┆ 4.7            ┆ 190           ┆ 2021-10-23 ┆ 5.7            │\n",
       "│ s.com/us/dail…    ┆                  ┆        ┆               ┆   ┆                ┆               ┆ 17:52:32   ┆                │\n",
       "│ https://www.adida ┆ Daily 3.0 Shoes  ┆ GZ7706 ┆ 40            ┆ … ┆ 4.7            ┆ 190           ┆ 2021-10-23 ┆ 5.7            │\n",
       "│ s.com/us/dail…    ┆                  ┆        ┆               ┆   ┆                ┆               ┆ 17:52:32   ┆                │\n",
       "│ https://www.adida ┆ Choigo Shoes     ┆ FY6503 ┆ 70            ┆ … ┆ 4.7            ┆ 135           ┆ 2021-10-23 ┆ 5.7            │\n",
       "│ s.com/us/choi…    ┆                  ┆        ┆               ┆   ┆                ┆               ┆ 17:52:32   ┆                │\n",
       "└───────────────────┴──────────────────┴────────┴───────────────┴───┴────────────────┴───────────────┴────────────┴────────────────┘"
      ]
     },
     "execution_count": 46,
     "metadata": {},
     "output_type": "execute_result"
    }
   ],
   "source": [
    "df.with_columns(\n",
    "    (pl.col(\"average_rating\") + pl.lit(1.0)).alias(\"new_avg_rating\")\n",
    ")"
   ]
  },
  {
   "cell_type": "code",
   "execution_count": 47,
   "id": "280abac0-79c3-42b9-ad1a-da990d453987",
   "metadata": {},
   "outputs": [
    {
     "data": {
      "text/html": [
       "<div><style>\n",
       ".dataframe > thead > tr,\n",
       ".dataframe > tbody > tr {\n",
       "  text-align: right;\n",
       "  white-space: pre-wrap;\n",
       "}\n",
       "</style>\n",
       "<small>shape: (5, 20)</small><table border=\"1\" class=\"dataframe\"><thead><tr><th>url</th><th>name</th><th>sku</th><th>selling_price</th><th>original_price</th><th>currency</th><th>availability</th><th>color</th><th>category</th><th>source</th><th>source_website</th><th>breadcrumbs</th><th>description</th><th>brand</th><th>images</th><th>country</th><th>language</th><th>average_rating</th><th>reviews_count</th><th>crawled_at</th></tr><tr><td>str</td><td>str</td><td>str</td><td>i64</td><td>str</td><td>str</td><td>str</td><td>str</td><td>str</td><td>str</td><td>str</td><td>str</td><td>str</td><td>str</td><td>str</td><td>str</td><td>str</td><td>f64</td><td>i64</td><td>str</td></tr></thead><tbody><tr><td>&quot;https://www.adidas.com/us/beac…</td><td>&quot;Beach Shorts&quot;</td><td>&quot;FJ5089&quot;</td><td>40</td><td>null</td><td>&quot;USD&quot;</td><td>&quot;InStock&quot;</td><td>&quot;Black&quot;</td><td>&quot;Clothing&quot;</td><td>&quot;adidas United States&quot;</td><td>&quot;https://www.adidas.com&quot;</td><td>&quot;Women/Clothing&quot;</td><td>&quot;Splashing in the surf. Making …</td><td>&quot;adidas&quot;</td><td>&quot;https://assets.adidas.com/imag…</td><td>&quot;USA&quot;</td><td>&quot;en&quot;</td><td>4.5</td><td>35</td><td>&quot;2021-10-23 17:50:17&quot;</td></tr><tr><td>&quot;https://www.adidas.com/us/five…</td><td>&quot;Five Ten Kestrel Lace Mountain…</td><td>&quot;BC0770&quot;</td><td>150</td><td>null</td><td>&quot;USD&quot;</td><td>&quot;InStock&quot;</td><td>&quot;Grey&quot;</td><td>&quot;Shoes&quot;</td><td>&quot;adidas United States&quot;</td><td>&quot;https://www.adidas.com&quot;</td><td>&quot;Women/Shoes&quot;</td><td>&quot;Lace up and get after it. The …</td><td>&quot;adidas&quot;</td><td>&quot;https://assets.adidas.com/imag…</td><td>&quot;USA&quot;</td><td>&quot;en&quot;</td><td>4.8</td><td>4</td><td>&quot;2021-10-23 17:50:17&quot;</td></tr><tr><td>&quot;https://www.adidas.com/us/mexi…</td><td>&quot;Mexico Away Jersey&quot;</td><td>&quot;GC7946&quot;</td><td>70</td><td>null</td><td>&quot;USD&quot;</td><td>&quot;InStock&quot;</td><td>&quot;White&quot;</td><td>&quot;Clothing&quot;</td><td>&quot;adidas United States&quot;</td><td>&quot;https://www.adidas.com&quot;</td><td>&quot;Kids/Clothing&quot;</td><td>&quot;Clean and crisp, this adidas M…</td><td>&quot;adidas&quot;</td><td>&quot;https://assets.adidas.com/imag…</td><td>&quot;USA&quot;</td><td>&quot;en&quot;</td><td>4.9</td><td>42</td><td>&quot;2021-10-23 17:50:18&quot;</td></tr><tr><td>&quot;https://www.adidas.com/us/five…</td><td>&quot;Five Ten Hiangle Pro Competiti…</td><td>&quot;FV4744&quot;</td><td>160</td><td>null</td><td>&quot;USD&quot;</td><td>&quot;InStock&quot;</td><td>&quot;Black&quot;</td><td>&quot;Shoes&quot;</td><td>&quot;adidas United States&quot;</td><td>&quot;https://www.adidas.com&quot;</td><td>&quot;Five Ten/Shoes&quot;</td><td>&quot;The Hiangle Pro takes on the c…</td><td>&quot;adidas&quot;</td><td>&quot;https://assets.adidas.com/imag…</td><td>&quot;USA&quot;</td><td>&quot;en&quot;</td><td>3.7</td><td>7</td><td>&quot;2021-10-23 17:50:18&quot;</td></tr><tr><td>&quot;https://www.adidas.com/us/mesh…</td><td>&quot;Mesh Broken-Stripe Polo Shirt&quot;</td><td>&quot;GM0239&quot;</td><td>65</td><td>null</td><td>&quot;USD&quot;</td><td>&quot;InStock&quot;</td><td>&quot;Blue&quot;</td><td>&quot;Clothing&quot;</td><td>&quot;adidas United States&quot;</td><td>&quot;https://www.adidas.com&quot;</td><td>&quot;Men/Clothing&quot;</td><td>&quot;Step up to the tee relaxed. Th…</td><td>&quot;adidas&quot;</td><td>&quot;https://assets.adidas.com/imag…</td><td>&quot;USA&quot;</td><td>&quot;en&quot;</td><td>4.7</td><td>11</td><td>&quot;2021-10-23 17:50:18&quot;</td></tr></tbody></table></div>"
      ],
      "text/plain": [
       "shape: (5, 20)\n",
       "┌──────────────────────┬─────────────────────┬────────┬───────────────┬───┬──────────┬────────────────┬───────────────┬────────────┐\n",
       "│ url                  ┆ name                ┆ sku    ┆ selling_price ┆ … ┆ language ┆ average_rating ┆ reviews_count ┆ crawled_at │\n",
       "│ ---                  ┆ ---                 ┆ ---    ┆ ---           ┆   ┆ ---      ┆ ---            ┆ ---           ┆ ---        │\n",
       "│ str                  ┆ str                 ┆ str    ┆ i64           ┆   ┆ str      ┆ f64            ┆ i64           ┆ str        │\n",
       "╞══════════════════════╪═════════════════════╪════════╪═══════════════╪═══╪══════════╪════════════════╪═══════════════╪════════════╡\n",
       "│ https://www.adidas.c ┆ Beach Shorts        ┆ FJ5089 ┆ 40            ┆ … ┆ en       ┆ 4.5            ┆ 35            ┆ 2021-10-23 │\n",
       "│ om/us/beac…          ┆                     ┆        ┆               ┆   ┆          ┆                ┆               ┆ 17:50:17   │\n",
       "│ https://www.adidas.c ┆ Five Ten Kestrel    ┆ BC0770 ┆ 150           ┆ … ┆ en       ┆ 4.8            ┆ 4             ┆ 2021-10-23 │\n",
       "│ om/us/five…          ┆ Lace Mountain…      ┆        ┆               ┆   ┆          ┆                ┆               ┆ 17:50:17   │\n",
       "│ https://www.adidas.c ┆ Mexico Away Jersey  ┆ GC7946 ┆ 70            ┆ … ┆ en       ┆ 4.9            ┆ 42            ┆ 2021-10-23 │\n",
       "│ om/us/mexi…          ┆                     ┆        ┆               ┆   ┆          ┆                ┆               ┆ 17:50:18   │\n",
       "│ https://www.adidas.c ┆ Five Ten Hiangle    ┆ FV4744 ┆ 160           ┆ … ┆ en       ┆ 3.7            ┆ 7             ┆ 2021-10-23 │\n",
       "│ om/us/five…          ┆ Pro Competiti…      ┆        ┆               ┆   ┆          ┆                ┆               ┆ 17:50:18   │\n",
       "│ https://www.adidas.c ┆ Mesh Broken-Stripe  ┆ GM0239 ┆ 65            ┆ … ┆ en       ┆ 4.7            ┆ 11            ┆ 2021-10-23 │\n",
       "│ om/us/mesh…          ┆ Polo Shirt          ┆        ┆               ┆   ┆          ┆                ┆               ┆ 17:50:18   │\n",
       "└──────────────────────┴─────────────────────┴────────┴───────────────┴───┴──────────┴────────────────┴───────────────┴────────────┘"
      ]
     },
     "execution_count": 47,
     "metadata": {},
     "output_type": "execute_result"
    }
   ],
   "source": []
  },
  {
   "cell_type": "code",
   "execution_count": null,
   "id": "c412ea58-7182-4f70-9927-e9e2e337e4e5",
   "metadata": {},
   "outputs": [],
   "source": []
  }
 ],
 "metadata": {
  "kernelspec": {
   "display_name": "Python 3 (ipykernel)",
   "language": "python",
   "name": "python3"
  },
  "language_info": {
   "codemirror_mode": {
    "name": "ipython",
    "version": 3
   },
   "file_extension": ".py",
   "mimetype": "text/x-python",
   "name": "python",
   "nbconvert_exporter": "python",
   "pygments_lexer": "ipython3",
   "version": "3.10.5"
  }
 },
 "nbformat": 4,
 "nbformat_minor": 5
}
